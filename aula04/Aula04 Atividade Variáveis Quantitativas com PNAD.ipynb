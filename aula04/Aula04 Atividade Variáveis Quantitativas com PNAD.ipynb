{
 "cells": [
  {
   "cell_type": "markdown",
   "metadata": {},
   "source": [
    "___\n",
    "# Atividade: Variáveis qualitativas com a PNAD (ALUNOS)\n",
    "___\n",
    "\n",
    "## Aula 02\n",
    "\n",
    "\n",
    "**Link úteis:**\n",
    "1.\tLeitura prévia necessária: Magalhães e Lima (7ª. Edição): pág. 9 a 16 – destacando para variáveis qualitativas.\n",
    "2.\t10 Minutes to Pandas: http://pandas.pydata.org/pandas-docs/stable/10min.html\n",
    "3.\tEssential Basic Functionality: http://pandas.pydata.org/pandas-docs/stable/basics.html\n",
    "4.  Estude a aula `Aula02 Análise Exploratoria Variáveis Qualitativas-ALUNOS.ipynb`, o qual contém uma introdução ao Jupyter Notebook. A publicação dessa aula tem como objetivo auxiliá-lo, caso queira, no desenvolvimento dos seus próximos programas, como esta atividade.\n",
    "\n",
    "**Hoje:**\n",
    "1.\tAnalisar variáveis qualitativas de forma uni e bivariadas utilizando tabelas de frequências e gráficos de barras e de pizza (ou setor).\n",
    "2.  Trabalhar com a base de dados da PNAD 2013 - Pesquisa Nacional por Amostra de Domicílios\n",
    "\n",
    "**Próxima aula:**\n",
    "1.\tLeitura prévia necessária: Magalhães e Lima (7ª. Edição): pág. 9 a 17 – destacando para variáveis quantitativas; pág. 106 e 107 (Definição 4.1 e Exemplo 4.1).\n",
    "\n",
    "___\n"
   ]
  },
  {
   "cell_type": "markdown",
   "metadata": {},
   "source": [
    "___\n",
    "## <font color='blue'>PNAD 2013 – PESQUISA NACIONAL POR AMOSTRA DE DOMICÍLIOS</font>\n",
    "\n",
    "**Base de dados reduzida: ** `pes2013A.txt` (75 MB)\n",
    "[Acesse a base de dados aqui: https://dl.dropboxusercontent.com/u/65763596/Aula02/pes2013A.txt] \n",
    "\n",
    "**Dicionário das variáveis: ** `Dicionário de variáveis de pessoas - PNAD 2013.xlsx`\n",
    "[Acesse dicionário aqui: https://dl.dropboxusercontent.com/u/65763596/Aula02/Dicion%C3%A1rio%20de%20vari%C3%A1veis%20de%20pessoas%20-%20PNAD%202013.xls]\n",
    "\n",
    "\n",
    "Muitos especialistas na área de negócios dizem que empresários mais bem sucedidos são aqueles que fazem um planejamento antes de começar seu próprio negócio. Nessa visão, imagine que o Sr. Gold tenha como grande objetivo abrir uma nova faculdade e para isso deseja estudar o perfil do estudante que cursa ensino médio ou pré-vestibular e do que cursa ensino superior. \n",
    "\n",
    "Assuma que as variáveis de interesse a respeito dos estudantes sejam relativamente as mesmas de 2013 até o momento atual. Nesse caso, seja criativo para ajudar o Sr. Gold que deseja abrir seu negócio, mas não tem certeza sobre quais variáveis o interessam. \n",
    "\n",
    "Vocês podem ajudá-lo?!  \n",
    "\n",
    "As variáveis a seguir devem fazer parte da sua análise:\n",
    "\n",
    "* V0302: sexo\n",
    "* V0404: cor ou raça\n",
    "* V6002: rede de ensino\n",
    "* V4802: nível de ensino e grupos de séries do ensino fundamental que frequentavam (todos os estudantes)\n",
    "\n",
    "** Crie uma variável com região do indivíduo amostrado considerando a variável `UF` que define o estado e também trabalhe com essa nova variável em suas análises. ** \n",
    "\n",
    "** Escolha mais pelo menos DUAS variáveis qualitativas para completar sua análise!! **\n",
    "\n",
    "Faça uma análise exploratória apenas com as variáveis qualitativas com foco no objetivo do Sr. Gold.\n",
    "\n",
    "Sua análise deve conter pelo menos uma das seguintes visualizações:\n",
    "\n",
    "1. Gráfico de colunas (bar) e setor (pie) com as frequências relativas cadas categorias das variáveis qualitativas.\n",
    "2. Tabela cruzada entre pares de variaveis qualitativas. Montar o gráfico de colunas. Repetir o processo habilitando a opção \"stacked=True\".\n",
    "\n",
    "\n",
    "___\n",
    "\n",
    "\n",
    "\n",
    "<font color='red'>\n",
    "Crie um repositório chamado CD em seu Github\n",
    "</font>\n",
    "\n",
    "\n",
    "Neste repositório, salve seu trabalho numa pasta chamada aula2\n",
    "\n",
    "Por exemplo, se seu login for *pikachu* o projeto vai estar na pasta:\n",
    "\n",
    "https://github.com/<font color=red>pikachu/CD/aula2</font>\n",
    "\n",
    "\n",
    "\n",
    "## <font color='red'>Terça-feira (dia 16/08), no horário de atendimento da sua turma, deverá apresentar aos NINJAS!!</font>\n",
    "___"
   ]
  },
  {
   "cell_type": "code",
   "execution_count": 1,
   "metadata": {
    "collapsed": false
   },
   "outputs": [],
   "source": [
    "%matplotlib inline\n",
    "import pandas as pd\n",
    "import matplotlib.pyplot as plt\n",
    "import os\n",
    "import numpy as np"
   ]
  },
  {
   "cell_type": "code",
   "execution_count": 2,
   "metadata": {
    "collapsed": false
   },
   "outputs": [
    {
     "name": "stdout",
     "output_type": "stream",
     "text": [
      "Diretório\n",
      "C:\\Users\\thiagorc2\\Desktop\n"
     ]
    }
   ],
   "source": [
    "print('Diretório')\n",
    "print(os.getcwd())"
   ]
  },
  {
   "cell_type": "code",
   "execution_count": 3,
   "metadata": {
    "collapsed": false
   },
   "outputs": [],
   "source": [
    "dados = pd.read_table(\"pes2013A.txt\", sep = \" \" , encoding = \"windows-1252\" )\n",
    "n = dados.shape[0]"
   ]
  },
  {
   "cell_type": "code",
   "execution_count": 4,
   "metadata": {
    "collapsed": false
   },
   "outputs": [
    {
     "data": {
      "text/plain": [
       "362555"
      ]
     },
     "execution_count": 4,
     "metadata": {},
     "output_type": "execute_result"
    }
   ],
   "source": [
    "dados.shape[0]"
   ]
  },
  {
   "cell_type": "code",
   "execution_count": 5,
   "metadata": {
    "collapsed": false
   },
   "outputs": [],
   "source": [
    "dados.REGIAO = dados.UF\n",
    "dados.UF = dados.UF.astype('category')\n",
    "dados.UF.cat.categories = ('RO','AC','AM','RR','PA','AP','TO','MA','PI','CE','RN','PB','PE','AL','SE','BA','MG','ES','RJ','SP','PR','SC','RS','MS','MT','GO','DF')\n"
   ]
  },
  {
   "cell_type": "code",
   "execution_count": 6,
   "metadata": {
    "collapsed": false
   },
   "outputs": [
    {
     "name": "stderr",
     "output_type": "stream",
     "text": [
      "C:\\Anaconda3\\lib\\site-packages\\ipykernel\\__main__.py:1: SettingWithCopyWarning: \n",
      "A value is trying to be set on a copy of a slice from a DataFrame\n",
      "\n",
      "See the caveats in the documentation: http://pandas.pydata.org/pandas-docs/stable/indexing.html#indexing-view-versus-copy\n",
      "  if __name__ == '__main__':\n"
     ]
    }
   ],
   "source": [
    "dados.REGIAO[(dados.UF == 'GO') | (dados.UF == 'MT') | (dados.UF == 'MS') | (dados.UF == 'DF')]  = \"Centro Oeste\"\n",
    "dados.REGIAO[(dados.UF == 'AC') | (dados.UF == 'AM') | (dados.UF == 'AP') | (dados.UF == 'PA') | (dados.UF == 'RR') | (dados.UF == 'RO') | (dados.UF == 'TO')]  = \"Norte\"\n",
    "dados.REGIAO[(dados.UF == 'RS') | (dados.UF == 'PR') | (dados.UF == 'SC')]  = \"Sul\"\n",
    "dados.REGIAO[(dados.UF == 'ES') | (dados.UF == 'MG') | (dados.UF == 'RJ') | (dados.UF == 'SP')]  = \"Sudeste\"\n",
    "dados.REGIAO[(dados.UF == 'AL') | (dados.UF == 'BA') | (dados.UF == 'CE') | (dados.UF == 'MA') | (dados.UF == 'PI') | (dados.UF == 'PE') | (dados.UF == 'PB') | (dados.UF == 'RN') | (dados.UF == 'SE')]  = \"Nordeste\""
   ]
  },
  {
   "cell_type": "code",
   "execution_count": 8,
   "metadata": {
    "collapsed": true
   },
   "outputs": [],
   "source": [
    "# Idade\n",
    "dados.V8005 = dados.V8005.astype('float')\n",
    "# Anos após o último trabalho\n",
    "dados.V1091 = dados.V1091.astype('float')\n",
    "# Renda per capita\n",
    "dados.V4742 = dados.V4742.astype('float')\n"
   ]
  },
  {
   "cell_type": "code",
   "execution_count": 9,
   "metadata": {
    "collapsed": false
   },
   "outputs": [
    {
     "data": {
      "text/plain": [
       "(15, 20]      31615\n",
       "(10, 15]      31418\n",
       "(30, 35]      29744\n",
       "(25, 30]      29004\n",
       "(20, 25]      28795\n",
       "(5, 10]       28071\n",
       "(35, 40]      26775\n",
       "(0, 5]        24791\n",
       "(40, 45]      24567\n",
       "(45, 50]      23414\n",
       "(50, 55]      20383\n",
       "(55, 60]      17486\n",
       "(60, 65]      13761\n",
       "(65, 70]      10067\n",
       "(70, 75]       7628\n",
       "(75, 80]       5122\n",
       "(80, 85]       3087\n",
       "(85, 90]       1455\n",
       "(90, 95]        535\n",
       "(95, 100]       157\n",
       "(100, 105]       38\n",
       "Name: V8005, dtype: int64"
      ]
     },
     "execution_count": 9,
     "metadata": {},
     "output_type": "execute_result"
    }
   ],
   "source": [
    "idades = dados.V8005\n",
    "faixas_idade = range(0,110, 5)\n",
    "faixa_etaria = pd.cut(idades, faixas_idade)\n",
    "faixa_etaria.value_counts()\n"
   ]
  },
  {
   "cell_type": "code",
   "execution_count": 10,
   "metadata": {
    "collapsed": false
   },
   "outputs": [
    {
     "data": {
      "image/png": "[encoded data removed]",
      "text/plain": [
       "<matplotlib.figure.Figure at 0x837d438>"
      ]
     },
     "metadata": {},
     "output_type": "display_data"
    }
   ],
   "source": [
    "intervalo_idades = np.arange(0, 100, 5)\n",
    "histograma1 = idades.plot.hist(bins=intervalo_idades, normed=1)"
   ]
  },
  {
   "cell_type": "code",
   "execution_count": 11,
   "metadata": {
    "collapsed": false
   },
   "outputs": [
    {
     "data": {
      "text/plain": [
       "<matplotlib.axes._subplots.AxesSubplot at 0x18dbffd0>"
      ]
     },
     "execution_count": 11,
     "metadata": {},
     "output_type": "execute_result"
    },
    {
     "data": {
      "image/png": "[encoded data removed]",
      "text/plain": [
       "<matplotlib.figure.Figure at 0x837d860>"
      ]
     },
     "metadata": {},
     "output_type": "display_data"
    }
   ],
   "source": [
    "idades.plot.box()"
   ]
  },
  {
   "cell_type": "code",
   "execution_count": 28,
   "metadata": {
    "collapsed": false
   },
   "outputs": [
    {
     "data": {
      "text/plain": [
       "count    362555.000000\n",
       "mean         33.049813\n",
       "std          20.870874\n",
       "min           0.000000\n",
       "25%          16.000000\n",
       "50%          31.000000\n",
       "75%          48.000000\n",
       "max         109.000000\n",
       "Name: V8005, dtype: float64"
      ]
     },
     "execution_count": 28,
     "metadata": {},
     "output_type": "execute_result"
    }
   ],
   "source": [
    "idades.describe()"
   ]
  },
  {
   "cell_type": "code",
   "execution_count": 27,
   "metadata": {
    "collapsed": false
   },
   "outputs": [
    {
     "data": {
      "text/plain": [
       "<matplotlib.axes._subplots.AxesSubplot at 0x9235ba8>"
      ]
     },
     "execution_count": 27,
     "metadata": {},
     "output_type": "execute_result"
    },
    {
     "data": {
      "image/png": "[encoded data removed]",
      "text/plain": [
       "<matplotlib.figure.Figure at 0x18f0b5c0>"
      ]
     },
     "metadata": {},
     "output_type": "display_data"
    }
   ],
   "source": [
    "dados.boxplot(column= \"V8005\", by=\"UF\", figsize=(10, 10))"
   ]
  },
  {
   "cell_type": "code",
   "execution_count": 14,
   "metadata": {
    "collapsed": false
   },
   "outputs": [
    {
     "data": {
      "text/plain": [
       "(0, 1000]         255395\n",
       "(1000, 2000]       54053\n",
       "(2000, 3000]       13811\n",
       "(3000, 4000]        6032\n",
       "(4000, 5000]        3193\n",
       "(5000, 6000]        1772\n",
       "(6000, 7000]        1192\n",
       "(7000, 8000]         820\n",
       "(8000, 9000]         565\n",
       "(9000, 10000]        500\n",
       "(10000, 11000]       282\n",
       "(11000, 12000]       219\n",
       "(12000, 13000]       169\n",
       "(13000, 14000]       155\n",
       "(14000, 15000]        99\n",
       "(15000, 16000]        67\n",
       "(16000, 17000]        51\n",
       "(17000, 18000]        46\n",
       "(18000, 19000]        21\n",
       "Name: V4742, dtype: int64"
      ]
     },
     "execution_count": 14,
     "metadata": {},
     "output_type": "execute_result"
    }
   ],
   "source": [
    "renda = dados.V4742\n",
    "faixas_renda = range(0,20000, 1000)\n",
    "classe = pd.cut(renda, faixas_renda)\n",
    "classe.value_counts()"
   ]
  },
  {
   "cell_type": "code",
   "execution_count": 15,
   "metadata": {
    "collapsed": false
   },
   "outputs": [
    {
     "data": {
      "image/png": "[encoded data removed]",
      "text/plain": [
       "<matplotlib.figure.Figure at 0x180b2e48>"
      ]
     },
     "metadata": {},
     "output_type": "display_data"
    }
   ],
   "source": [
    "intervalo_renda = np.arange(0, 20000, 1000)\n",
    "histograma2 = renda.plot.hist(bins=intervalo_renda, normed=1)"
   ]
  },
  {
   "cell_type": "code",
   "execution_count": 16,
   "metadata": {
    "collapsed": false
   },
   "outputs": [
    {
     "data": {
      "text/plain": [
       "<matplotlib.axes._subplots.AxesSubplot at 0x8ff9438>"
      ]
     },
     "execution_count": 16,
     "metadata": {},
     "output_type": "execute_result"
    },
    {
     "data": {
      "image/png": "[encoded data removed]",
      "text/plain": [
       "<matplotlib.figure.Figure at 0x19629400>"
      ]
     },
     "metadata": {},
     "output_type": "display_data"
    }
   ],
   "source": [
    "renda = renda[renda != 999999999999]\n",
    "renda.plot.box()"
   ]
  },
  {
   "cell_type": "code",
   "execution_count": 17,
   "metadata": {
    "collapsed": false
   },
   "outputs": [
    {
     "name": "stderr",
     "output_type": "stream",
     "text": [
      "C:\\Anaconda3\\lib\\site-packages\\numpy\\lib\\function_base.py:3834: RuntimeWarning: Invalid value encountered in percentile\n",
      "  RuntimeWarning)\n"
     ]
    },
    {
     "data": {
      "text/plain": [
       "count    343224.000000\n",
       "mean        923.885943\n",
       "std        1473.710793\n",
       "min           0.000000\n",
       "25%                NaN\n",
       "50%                NaN\n",
       "75%                NaN\n",
       "max       82000.000000\n",
       "Name: V4742, dtype: float64"
      ]
     },
     "execution_count": 17,
     "metadata": {},
     "output_type": "execute_result"
    }
   ],
   "source": [
    "renda.describe()"
   ]
  },
  {
   "cell_type": "code",
   "execution_count": 31,
   "metadata": {
    "collapsed": false,
    "scrolled": true
   },
   "outputs": [
    {
     "data": {
      "text/plain": [
       "<matplotlib.axes._subplots.AxesSubplot at 0x1954cda0>"
      ]
     },
     "execution_count": 31,
     "metadata": {},
     "output_type": "execute_result"
    },
    {
     "data": {
      "image/png": "[encoded data removed]",
      "text/plain": [
       "<matplotlib.figure.Figure at 0x19544f28>"
      ]
     },
     "metadata": {},
     "output_type": "display_data"
    }
   ],
   "source": [
    "dados[dados.V4742 != 999999999999].boxplot(column= \"V4742\", by=\"UF\", figsize=(10,10))"
   ]
  },
  {
   "cell_type": "markdown",
   "metadata": {
    "collapsed": true
   },
   "source": [
    "### Conclusâo\n",
    "A analise de idades foi utilizada para descobrir qual região do país apresenta mais pessoas na idade média dos \n",
    "universitários, cerca dos 21 anos. O boxplot de idades demonstra que as melhores regiões para se abrir uma universidade de\n",
    "acordo com esse parâmetro é a rgião norte, seguida pela nordeste.\n",
    "    Ja a analise da renda percapita é utilizada para obter quais regiões apresentam uma maior quantidade de pessoas que sejam\n",
    "capazes depagar por uma universidade particular. De acordo com a análise, por meio de boxplot, dessa variável a melhor região \n",
    "para o Sr. Gold abrir sua faculdade é a região Sul e Sudeste."
   ]
  },
  {
   "cell_type": "code",
   "execution_count": null,
   "metadata": {
    "collapsed": true
   },
   "outputs": [],
   "source": []
  }
 ],
 "metadata": {
  "anaconda-cloud": {},
  "kernelspec": {
   "display_name": "Python [Root]",
   "language": "python",
   "name": "Python [Root]"
  },
  "language_info": {
   "codemirror_mode": {
    "name": "ipython",
    "version": 3
   },
   "file_extension": ".py",
   "mimetype": "text/x-python",
   "name": "python",
   "nbconvert_exporter": "python",
   "pygments_lexer": "ipython3",
   "version": "3.5.2"
  }
 },
 "nbformat": 4,
 "nbformat_minor": 0
}

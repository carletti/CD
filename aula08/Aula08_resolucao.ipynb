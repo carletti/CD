{
 "cells": [
  {
   "cell_type": "markdown",
   "metadata": {},
   "source": [
    "___\n",
    "# Atividade: Teoria da Probabilidade\n",
    "___\n",
    "\n",
    "## Aula 08\n",
    "\n",
    "**Referência de Leitura:**\n",
    "1. Magalhães e Lima (7ª. Edição): pág. 49 a 68 - Probabilidades\n",
    "\n",
    "**Hoje:**\n",
    "1. Conceito de Probabilidade\n",
    "4. Probabilidade Condicional\n",
    "3. Independência de eventos\n",
    "5. Teorema de Bayes. Simulação do problema de Monty Hall\n",
    "\n",
    "**Próxima aula:**\n",
    "1. Magalhães e Lima (7ª. Edição): pág. 69 a 104 - Variáveis aleatórias discretas\n",
    "___"
   ]
  },
  {
   "cell_type": "code",
   "execution_count": 2,
   "metadata": {
    "collapsed": true
   },
   "outputs": [],
   "source": [
    "%matplotlib inline\n",
    "import pandas as pd\n",
    "import matplotlib.pyplot as plt\n",
    "\n",
    "#Bibliotecas necessárias\n",
    "from numpy.random import shuffle, randint, choice\n",
    "import numpy as np"
   ]
  },
  {
   "cell_type": "markdown",
   "metadata": {},
   "source": [
    "## <font color='blue'>Exercício 1</font>\n",
    "\n",
    "Monte a simulação de 1000 jogadas de um dado idôneo de 6 faces. Faça o histograma (normalizado) da frequência.\n",
    "\n",
    "    a) Olhando o histograma, o que pode se dizer sobre as probabilidade de cada face?\n",
    "    \n",
    "    b) Discorra sobre o porque da probabilidade não ser exatamente igual à teórica."
   ]
  },
  {
   "cell_type": "code",
   "execution_count": 5,
   "metadata": {
    "collapsed": false
   },
   "outputs": [
    {
     "name": "stdout",
     "output_type": "stream",
     "text": [
      "[6, 5, 6, 1, 3, 1, 4, 1, 3, 4, 4, 6, 2, 3, 6, 6, 1, 2, 4, 3, 5, 6, 4, 6, 6, 5, 3, 6, 5, 4, 4, 1, 3, 5, 2, 3, 5, 4, 1, 4, 5, 1, 1, 3, 6, 6, 5, 2, 4, 4, 4, 6, 3, 2, 5, 1, 2, 2, 3, 1, 4, 4, 3, 2, 5, 5, 6, 1, 4, 1, 4, 5, 6, 2, 2, 1, 2, 6, 1, 4, 2, 5, 2, 6, 1, 3, 4, 3, 4, 3, 5, 5, 6, 5, 1, 5, 1, 6, 3, 3, 5, 5, 6, 3, 4, 2, 1, 6, 2, 2, 2, 6, 4, 5, 5, 4, 2, 4, 5, 1, 3, 2, 1, 4, 1, 4, 6, 6, 1, 6, 5, 4, 5, 2, 6, 1, 2, 1, 3, 1, 2, 3, 4, 6, 2, 1, 4, 5, 4, 4, 4, 6, 3, 2, 4, 1, 2, 1, 5, 4, 3, 6, 1, 3, 4, 3, 5, 5, 1, 1, 2, 3, 3, 5, 3, 2, 5, 5, 5, 3, 4, 1, 5, 5, 1, 3, 2, 5, 1, 3, 6, 5, 3, 5, 1, 4, 4, 6, 2, 4, 5, 3, 5, 4, 4, 1, 3, 3, 6, 3, 3, 3, 2, 1, 4, 5, 3, 1, 2, 3, 2, 4, 3, 5, 6, 3, 5, 6, 1, 6, 2, 2, 4, 3, 4, 5, 2, 2, 1, 1, 4, 2, 3, 2, 6, 5, 1, 2, 2, 3, 5, 1, 3, 2, 4, 4, 4, 3, 1, 3, 6, 5, 2, 6, 2, 3, 3, 5, 2, 3, 5, 1, 5, 2, 5, 6, 1, 2, 6, 4, 4, 1, 4, 3, 2, 3, 4, 1, 6, 4, 4, 3, 1, 6, 4, 5, 2, 4, 5, 3, 1, 5, 3, 2, 3, 6, 4, 1, 5, 3, 6, 4, 5, 4, 4, 6, 2, 1, 3, 2, 4, 1, 6, 3, 1, 2, 6, 2, 5, 5, 2, 4, 6, 6, 5, 3, 2, 1, 6, 2, 5, 5, 1, 1, 2, 4, 2, 6, 4, 1, 2, 1, 3, 5, 2, 5, 6, 5, 4, 3, 2, 2, 6, 2, 5, 2, 2, 6, 3, 5, 2, 1, 3, 1, 1, 1, 4, 4, 3, 6, 1, 3, 5, 6, 5, 2, 4, 5, 1, 2, 2, 2, 4, 1, 2, 4, 6, 3, 1, 5, 2, 3, 5, 6, 3, 1, 5, 1, 2, 3, 2, 2, 1, 5, 4, 2, 4, 6, 2, 2, 3, 6, 6, 2, 1, 5, 3, 4, 4, 2, 5, 1, 6, 2, 4, 1, 6, 5, 5, 1, 3, 2, 6, 4, 2, 1, 1, 3, 1, 1, 5, 1, 2, 5, 5, 5, 5, 2, 1, 2, 2, 3, 5, 1, 2, 4, 4, 4, 3, 5, 1, 3, 3, 6, 4, 2, 2, 4, 3, 4, 6, 2, 4, 5, 1, 5, 1, 3, 2, 3, 3, 3, 5, 2, 3, 6, 4, 5, 2, 5, 2, 1, 3, 6, 6, 6, 5, 3, 4, 3, 3, 4, 4, 4, 3, 3, 4, 6, 2, 1, 6, 2, 3, 6, 4, 3, 3, 6, 4, 4, 2, 2, 1, 6, 6, 5, 5, 2, 5, 4, 1, 1, 3, 2, 2, 3, 3, 5, 5, 6, 6, 1, 5, 2, 1, 3, 1, 6, 2, 4, 6, 5, 1, 6, 2, 5, 2, 2, 5, 3, 4, 6, 2, 4, 1, 4, 2, 3, 5, 3, 6, 2, 4, 4, 6, 5, 2, 2, 1, 4, 6, 2, 4, 1, 1, 2, 6, 3, 2, 3, 1, 4, 4, 6, 2, 4, 4, 2, 1, 4, 1, 4, 3, 2, 6, 4, 6, 5, 4, 1, 1, 2, 1, 1, 5, 6, 4, 2, 5, 3, 6, 2, 5, 4, 6, 4, 6, 5, 4, 2, 5, 2, 2, 3, 2, 1, 6, 6, 1, 6, 3, 4, 4, 6, 1, 3, 3, 4, 5, 2, 4, 5, 2, 1, 3, 6, 6, 6, 6, 3, 6, 4, 5, 2, 3, 3, 2, 4, 5, 3, 6, 4, 3, 1, 1, 3, 2, 5, 3, 5, 6, 4, 3, 6, 4, 3, 6, 4, 5, 4, 4, 5, 3, 4, 6, 4, 4, 6, 2, 3, 6, 6, 3, 5, 5, 2, 2, 6, 6, 6, 4, 1, 5, 6, 3, 2, 6, 5, 4, 2, 3, 1, 3, 4, 6, 1, 4, 2, 6, 2, 6, 3, 5, 6, 6, 5, 4, 1, 5, 4, 3, 6, 6, 4, 4, 1, 4, 4, 6, 2, 2, 6, 4, 6, 2, 3, 4, 1, 4, 5, 2, 2, 2, 3, 4, 4, 6, 2, 2, 2, 2, 2, 6, 6, 3, 6, 2, 1, 2, 4, 2, 2, 6, 3, 1, 5, 3, 3, 5, 6, 1, 3, 4, 3, 1, 2, 6, 6, 3, 6, 1, 1, 5, 4, 5, 4, 2, 4, 6, 3, 1, 2, 6, 4, 3, 3, 3, 2, 3, 6, 3, 6, 4, 1, 3, 2, 3, 3, 5, 5, 1, 2, 3, 5, 2, 2, 2, 6, 2, 2, 6, 6, 5, 1, 3, 1, 3, 5, 4, 4, 2, 4, 1, 2, 3, 5, 2, 2, 2, 3, 6, 2, 1, 2, 6, 1, 3, 2, 1, 6, 1, 3, 4, 3, 5, 4, 2, 4, 3, 2, 5, 4, 2, 6, 6, 3, 2, 5, 2, 5, 6, 4, 1, 6, 6, 3, 2, 1, 5, 2, 5, 4, 2, 5, 1, 3, 1, 4, 3, 1, 4, 6, 4, 6, 2, 5, 1, 4, 6, 6, 4, 6, 5, 3, 4, 6, 6, 1, 4, 6, 4, 3, 3, 6, 2, 3, 3, 4, 1, 1, 2, 2, 6, 4, 3, 6, 5, 4, 3, 6, 2, 2, 6, 5, 3, 3, 1, 2, 2, 1, 5, 4, 4, 5, 4, 2, 2, 2, 6, 5, 1, 4, 6, 6, 1, 6, 6, 1, 5, 2, 6, 3, 6, 4, 1, 5, 5, 2, 1, 5, 3]\n"
     ]
    }
   ],
   "source": [
    "sorteio = []\n",
    "for i in range (1001):\n",
    "    r = randint(1, 7)\n",
    "    sorteio.append(r)\n",
    "print(sorteio)"
   ]
  },
  {
   "cell_type": "code",
   "execution_count": 6,
   "metadata": {
    "collapsed": false
   },
   "outputs": [
    {
     "data": {
      "image/png": "[encoded data removed]",
      "text/plain": [
       "<matplotlib.figure.Figure at 0x172579ac5f8>"
      ]
     },
     "metadata": {},
     "output_type": "display_data"
    }
   ],
   "source": [
    "histograma1 = plt.hist(sorteio, bins=6)\n",
    "plt.show()"
   ]
  },
  {
   "cell_type": "markdown",
   "metadata": {},
   "source": [
    "#### a)\n",
    "    Pode-se afirmar que a face dois tem mais probabilidade de ocorrer do que as demais, e a face cinco tem menor probabilidade que as demais.\n",
    "#### b)\n",
    "    Primeiramente pode-se considerar que o espaço amostral não é suficiente para as propabilidades ficarem próximas.\n",
    "    Mas o que realmente ocorre é que em qualquer algorítimo que gera números aleatórios na realidade gera números pseudo aleatórios, visto a fonte: https://www.random.org/"
   ]
  },
  {
   "cell_type": "markdown",
   "metadata": {},
   "source": [
    "___\n",
    "## <font color='blue'>Exercício 2</font>\n",
    "\n",
    "Ampliando o espaço amostral para as possíveis jogadas de 2 dados, analise as seguintes situações:\n",
    "    \n",
    "    a) Jogando os dois dados ao mesmo tempo. Qual é a probabilidade de obter soma 7?\n",
    "    \n",
    "    b) Jogando um dado e depois o segundo dado. Qual é a probabilidade de obter soma 7 já sabendo o resultado do primeiro? Compare o resultado com item anterior! Por que é igual ou diferente?"
   ]
  },
  {
   "cell_type": "code",
   "execution_count": 10,
   "metadata": {
    "collapsed": false
   },
   "outputs": [
    {
     "name": "stdout",
     "output_type": "stream",
     "text": [
      "a)\n",
      "16.900000000000002 %\n"
     ]
    }
   ],
   "source": [
    "soma = 0\n",
    "for i in range (1001):\n",
    "    r1 = randint(1, 7)\n",
    "    r2 = randint(1, 7)\n",
    "    rr = r1 + r2\n",
    "    if rr == 7:\n",
    "        soma += 1\n",
    "print(\"a)\")\n",
    "print((soma/1000)*100,\"%\")\n"
   ]
  },
  {
   "cell_type": "code",
   "execution_count": 3,
   "metadata": {
    "collapsed": false
   },
   "outputs": [
    {
     "name": "stdout",
     "output_type": "stream",
     "text": [
      "b)\n",
      "16.1 %\n"
     ]
    }
   ],
   "source": [
    "soma1 = 0\n",
    "for i in range (1001):\n",
    "    r_1 = 1\n",
    "    r_2 = randint(1, 7)\n",
    "    \n",
    "    if r_2 == 6:\n",
    "        soma1 += 1\n",
    "print(\"b)\")\n",
    "print((soma1/1000)*100,\"%\")"
   ]
  },
  {
   "cell_type": "markdown",
   "metadata": {},
   "source": [
    "#### Resposta\n",
    "    As probabilidades são semelhantes pois seguem o conceito de Probabilidade Condicional, que demonstra a independência na ordem em que ocorrem eventos como o exemplificado; visto a fonte: http://brasilescola.uol.com.br/matematica/probabilidade-condicional.htm"
   ]
  },
  {
   "cell_type": "markdown",
   "metadata": {},
   "source": [
    "___\n",
    "## <font color='blue'>Exercício 3</font>\n",
    "\n",
    "Simule 10000 vezes o problema de Monty Hall¹ , usar o seguinte algoritmo:\n",
    "\n",
    "\n",
    "* Repetir 10000 vezes:\n",
    "    * Sorteie um número de porta de 1 a 3 para ser a premiada\n",
    "    * Sorteie um número de porta de 1 a 3 para ser a porta escolhida.\n",
    "    * Sorteie um número de porta para ser a aberta, desde que não seja a premiada e nem a porta escolhida. Assim, se:\n",
    "        * porta premiada é 1 e a escolhida é 1, sorteie entre as portas 2 e 3 para ser aberta\n",
    "        * porta premiada é 1 e a escolhida é 2, com probabilidade 1 deve abrir a porta 3\n",
    "        * porta premiada é 1 e a escolhida é 3, com probabilidade 1 deve abrir a porta 2\n",
    "        * assim para demais casos...\n",
    "    \n",
    "    * Calcule quantas vezes indivíduo ganha ao trocar de porta. Ou seja, se:\n",
    "        * porta premiada é 1, a escolhida é 1 e aberta é 2 (ou 3), indivíduo perde se trocar de porta\n",
    "        * porta premiada é 1, a escolhida é 2 e aberta é 3, indivíduo ganha se trocar de porta\n",
    "        * porta premiada é 1, a escolhida é 3 e aberta é 2, indivíduo ganha se trocar de porta\n",
    "        * assim para demais casos...\n",
    "        \n",
    "    * Exibir quantas vezes em 10000, o indivíduo ganhou ao trocar de porta.\n",
    "\n",
    "Compare o resultado numérico com o resultado analítico obtido via Teorema de Bayes.\n",
    "\n",
    "¹https://en.wikipedia.org/wiki/Monty_Hall_problem e \n",
    "Exercício 1.4.5 de http://www.portalaction.com.br/probabilidades/14-eventos-independentes-e-probabilidade-condicional"
   ]
  },
  {
   "cell_type": "code",
   "execution_count": 31,
   "metadata": {
    "collapsed": false
   },
   "outputs": [
    {
     "name": "stdout",
     "output_type": "stream",
     "text": [
      "66.59 %\n"
     ]
    }
   ],
   "source": [
    "ganha = []\n",
    "perde = []\n",
    "\n",
    "for i in range(10000):\n",
    "    portas = [1,2,3]\n",
    "    premiada = np.random.choice(portas)\n",
    "    escolhida = np.random.choice(portas)\n",
    "    \n",
    "    if  premiada == escolhida:\n",
    "        portas.remove(escolhida)\n",
    "        portas.remove(np.random.choice(portas))\n",
    "        perde.append('perde')\n",
    "        \n",
    "    elif premiada != escolhida:\n",
    "        portas.remove(escolhida)\n",
    "        portas.remove(premiada)\n",
    "        ganha.append('ganha')\n",
    "        \n",
    "print(len(ganha)/100,'%')"
   ]
  },
  {
   "cell_type": "markdown",
   "metadata": {
    "collapsed": true
   },
   "source": [
    "#### Resposta\n",
    "\n",
    "    A solução obtida é semelhante a esperada pelo Teorema de Baynes(66,6%), visto a fonte:https://pt.wikipedia.org/wiki/Problema_de_Monty_Hall"
   ]
  },
  {
   "cell_type": "code",
   "execution_count": null,
   "metadata": {
    "collapsed": true
   },
   "outputs": [],
   "source": []
  }
 ],
 "metadata": {
  "anaconda-cloud": {},
  "kernelspec": {
   "display_name": "Python [Root]",
   "language": "python",
   "name": "Python [Root]"
  },
  "language_info": {
   "codemirror_mode": {
    "name": "ipython",
    "version": 3
   },
   "file_extension": ".py",
   "mimetype": "text/x-python",
   "name": "python",
   "nbconvert_exporter": "python",
   "pygments_lexer": "ipython3",
   "version": "3.5.2"
  }
 },
 "nbformat": 4,
 "nbformat_minor": 0
}

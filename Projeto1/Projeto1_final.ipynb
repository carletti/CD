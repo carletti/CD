{
 "cells": [
  {
   "cell_type": "markdown",
   "metadata": {},
   "source": [
    "# Introdução\n",
    "\n",
    "    A analise a seguir tem como objetivo obter informações sobre a necessidade de auxílio por parte dos aposentados, em comparação com os não aposentados, para observar as diferenças entre os dois grupos; e, após esse processo, entender por que tal auxílio aos aposentados é necessário ou não, discutindo a atual eficiência do fundo de previdência quando se trata da cobertura total de gastos"
   ]
  },
  {
   "cell_type": "code",
   "execution_count": 274,
   "metadata": {
    "collapsed": true
   },
   "outputs": [],
   "source": [
    "%matplotlib inline\n",
    "import pandas as pd\n",
    "import matplotlib.pyplot as plt\n",
    "import numpy as np\n",
    "import os"
   ]
  },
  {
   "cell_type": "code",
   "execution_count": 275,
   "metadata": {
    "collapsed": false
   },
   "outputs": [
    {
     "name": "stdout",
     "output_type": "stream",
     "text": [
      "Diretório:\n",
      "C:\\Users\\trcar\\Desktop\\Insper\\2º Semestre\\Ciência dos dados\\Github\\Projetos\\CD\\Projeto1\n"
     ]
    }
   ],
   "source": [
    "print('Diretório:')\n",
    "print(os.getcwd())"
   ]
  },
  {
   "cell_type": "code",
   "execution_count": 276,
   "metadata": {
    "collapsed": true
   },
   "outputs": [],
   "source": [
    "estrutura = pd.read_table(\"pes_py.txt\", sep=\";\")"
   ]
  },
  {
   "cell_type": "code",
   "execution_count": 277,
   "metadata": {
    "collapsed": false,
    "scrolled": true
   },
   "outputs": [
    {
     "data": {
      "text/html": [
       "<div>\n",
       "<table border=\"1\" class=\"dataframe\">\n",
       "  <thead>\n",
       "    <tr style=\"text-align: right;\">\n",
       "      <th></th>\n",
       "      <th>Coluna</th>\n",
       "      <th>Tamanho</th>\n",
       "      <th>Título</th>\n",
       "    </tr>\n",
       "  </thead>\n",
       "  <tbody>\n",
       "    <tr>\n",
       "      <th>0</th>\n",
       "      <td>V0101</td>\n",
       "      <td>4</td>\n",
       "      <td>Ano de referência</td>\n",
       "    </tr>\n",
       "    <tr>\n",
       "      <th>1</th>\n",
       "      <td>UF</td>\n",
       "      <td>2</td>\n",
       "      <td>Unidade da Federação</td>\n",
       "    </tr>\n",
       "    <tr>\n",
       "      <th>2</th>\n",
       "      <td>V0102</td>\n",
       "      <td>6</td>\n",
       "      <td>Número de controle</td>\n",
       "    </tr>\n",
       "    <tr>\n",
       "      <th>3</th>\n",
       "      <td>V0103</td>\n",
       "      <td>3</td>\n",
       "      <td>Número de série</td>\n",
       "    </tr>\n",
       "    <tr>\n",
       "      <th>4</th>\n",
       "      <td>V0301</td>\n",
       "      <td>2</td>\n",
       "      <td>Número de ordem</td>\n",
       "    </tr>\n",
       "  </tbody>\n",
       "</table>\n",
       "</div>"
      ],
      "text/plain": [
       "  Coluna  Tamanho                Título\n",
       "0  V0101        4     Ano de referência\n",
       "1     UF        2  Unidade da Federação\n",
       "2  V0102        6    Número de controle\n",
       "3  V0103        3       Número de série\n",
       "4  V0301        2       Número de ordem"
      ]
     },
     "execution_count": 277,
     "metadata": {},
     "output_type": "execute_result"
    }
   ],
   "source": [
    "estrutura.head()"
   ]
  },
  {
   "cell_type": "code",
   "execution_count": 278,
   "metadata": {
    "collapsed": false
   },
   "outputs": [],
   "source": [
    "dados = pd.read_fwf(\"PES2014.zip\", widths=estrutura.Tamanho, header=None, compression=\"zip\")\n",
    "n = dados.shape[0]"
   ]
  },
  {
   "cell_type": "code",
   "execution_count": 279,
   "metadata": {
    "collapsed": false,
    "scrolled": true
   },
   "outputs": [
    {
     "data": {
      "text/html": [
       "<div>\n",
       "<table border=\"1\" class=\"dataframe\">\n",
       "  <thead>\n",
       "    <tr style=\"text-align: right;\">\n",
       "      <th></th>\n",
       "      <th>0</th>\n",
       "      <th>1</th>\n",
       "      <th>2</th>\n",
       "      <th>3</th>\n",
       "      <th>4</th>\n",
       "      <th>5</th>\n",
       "      <th>6</th>\n",
       "      <th>7</th>\n",
       "      <th>8</th>\n",
       "      <th>9</th>\n",
       "      <th>...</th>\n",
       "      <th>331</th>\n",
       "      <th>332</th>\n",
       "      <th>333</th>\n",
       "      <th>334</th>\n",
       "      <th>335</th>\n",
       "      <th>336</th>\n",
       "      <th>337</th>\n",
       "      <th>338</th>\n",
       "      <th>339</th>\n",
       "      <th>340</th>\n",
       "    </tr>\n",
       "  </thead>\n",
       "  <tbody>\n",
       "    <tr>\n",
       "      <th>0</th>\n",
       "      <td>2014</td>\n",
       "      <td>11</td>\n",
       "      <td>15</td>\n",
       "      <td>1</td>\n",
       "      <td>1</td>\n",
       "      <td>2</td>\n",
       "      <td>19</td>\n",
       "      <td>8</td>\n",
       "      <td>1987</td>\n",
       "      <td>27</td>\n",
       "      <td>...</td>\n",
       "      <td>3.0</td>\n",
       "      <td>500.0</td>\n",
       "      <td>3.0</td>\n",
       "      <td>3</td>\n",
       "      <td>1.0</td>\n",
       "      <td>2.0</td>\n",
       "      <td>2.0</td>\n",
       "      <td>1.0</td>\n",
       "      <td>500.0</td>\n",
       "      <td>20160623</td>\n",
       "    </tr>\n",
       "    <tr>\n",
       "      <th>1</th>\n",
       "      <td>2014</td>\n",
       "      <td>11</td>\n",
       "      <td>15</td>\n",
       "      <td>1</td>\n",
       "      <td>2</td>\n",
       "      <td>4</td>\n",
       "      <td>19</td>\n",
       "      <td>1</td>\n",
       "      <td>1986</td>\n",
       "      <td>28</td>\n",
       "      <td>...</td>\n",
       "      <td>3.0</td>\n",
       "      <td>500.0</td>\n",
       "      <td>3.0</td>\n",
       "      <td>4</td>\n",
       "      <td>2.0</td>\n",
       "      <td>NaN</td>\n",
       "      <td>2.0</td>\n",
       "      <td>1.0</td>\n",
       "      <td>500.0</td>\n",
       "      <td>20160623</td>\n",
       "    </tr>\n",
       "    <tr>\n",
       "      <th>2</th>\n",
       "      <td>2014</td>\n",
       "      <td>11</td>\n",
       "      <td>15</td>\n",
       "      <td>1</td>\n",
       "      <td>3</td>\n",
       "      <td>2</td>\n",
       "      <td>14</td>\n",
       "      <td>5</td>\n",
       "      <td>2013</td>\n",
       "      <td>1</td>\n",
       "      <td>...</td>\n",
       "      <td>3.0</td>\n",
       "      <td>500.0</td>\n",
       "      <td>3.0</td>\n",
       "      <td>1</td>\n",
       "      <td>NaN</td>\n",
       "      <td>NaN</td>\n",
       "      <td>NaN</td>\n",
       "      <td>NaN</td>\n",
       "      <td>500.0</td>\n",
       "      <td>20160623</td>\n",
       "    </tr>\n",
       "    <tr>\n",
       "      <th>3</th>\n",
       "      <td>2014</td>\n",
       "      <td>11</td>\n",
       "      <td>15</td>\n",
       "      <td>2</td>\n",
       "      <td>1</td>\n",
       "      <td>2</td>\n",
       "      <td>8</td>\n",
       "      <td>4</td>\n",
       "      <td>1963</td>\n",
       "      <td>51</td>\n",
       "      <td>...</td>\n",
       "      <td>2.0</td>\n",
       "      <td>1150.0</td>\n",
       "      <td>4.0</td>\n",
       "      <td>2</td>\n",
       "      <td>1.0</td>\n",
       "      <td>2.0</td>\n",
       "      <td>2.0</td>\n",
       "      <td>1.0</td>\n",
       "      <td>1150.0</td>\n",
       "      <td>20160623</td>\n",
       "    </tr>\n",
       "    <tr>\n",
       "      <th>4</th>\n",
       "      <td>2014</td>\n",
       "      <td>11</td>\n",
       "      <td>15</td>\n",
       "      <td>2</td>\n",
       "      <td>2</td>\n",
       "      <td>4</td>\n",
       "      <td>6</td>\n",
       "      <td>11</td>\n",
       "      <td>1970</td>\n",
       "      <td>43</td>\n",
       "      <td>...</td>\n",
       "      <td>2.0</td>\n",
       "      <td>1150.0</td>\n",
       "      <td>4.0</td>\n",
       "      <td>3</td>\n",
       "      <td>1.0</td>\n",
       "      <td>2.0</td>\n",
       "      <td>2.0</td>\n",
       "      <td>1.0</td>\n",
       "      <td>1150.0</td>\n",
       "      <td>20160623</td>\n",
       "    </tr>\n",
       "  </tbody>\n",
       "</table>\n",
       "<p>5 rows × 341 columns</p>\n",
       "</div>"
      ],
      "text/plain": [
       "    0    1    2    3    4    5    6    7     8    9      ...     331     332  \\\n",
       "0  2014   11   15    1    1    2   19    8  1987   27    ...     3.0   500.0   \n",
       "1  2014   11   15    1    2    4   19    1  1986   28    ...     3.0   500.0   \n",
       "2  2014   11   15    1    3    2   14    5  2013    1    ...     3.0   500.0   \n",
       "3  2014   11   15    2    1    2    8    4  1963   51    ...     2.0  1150.0   \n",
       "4  2014   11   15    2    2    4    6   11  1970   43    ...     2.0  1150.0   \n",
       "\n",
       "   333  334  335  336  337  338     339       340  \n",
       "0  3.0    3  1.0  2.0  2.0  1.0   500.0  20160623  \n",
       "1  3.0    4  2.0  NaN  2.0  1.0   500.0  20160623  \n",
       "2  3.0    1  NaN  NaN  NaN  NaN   500.0  20160623  \n",
       "3  4.0    2  1.0  2.0  2.0  1.0  1150.0  20160623  \n",
       "4  4.0    3  1.0  2.0  2.0  1.0  1150.0  20160623  \n",
       "\n",
       "[5 rows x 341 columns]"
      ]
     },
     "execution_count": 279,
     "metadata": {},
     "output_type": "execute_result"
    }
   ],
   "source": [
    "dados.head()"
   ]
  },
  {
   "cell_type": "code",
   "execution_count": 280,
   "metadata": {
    "collapsed": false
   },
   "outputs": [
    {
     "data": {
      "text/plain": [
       "Index(['Coluna', 'Tamanho', 'Título'], dtype='object')"
      ]
     },
     "execution_count": 280,
     "metadata": {},
     "output_type": "execute_result"
    }
   ],
   "source": [
    "estrutura.columns"
   ]
  },
  {
   "cell_type": "code",
   "execution_count": 281,
   "metadata": {
    "collapsed": true
   },
   "outputs": [],
   "source": [
    "dados.columns = estrutura.Coluna"
   ]
  },
  {
   "cell_type": "code",
   "execution_count": 282,
   "metadata": {
    "collapsed": false
   },
   "outputs": [
    {
     "data": {
      "text/html": [
       "<div>\n",
       "<table border=\"1\" class=\"dataframe\">\n",
       "  <thead>\n",
       "    <tr style=\"text-align: right;\">\n",
       "      <th>Coluna</th>\n",
       "      <th>V0101</th>\n",
       "      <th>UF</th>\n",
       "      <th>V0102</th>\n",
       "      <th>V0103</th>\n",
       "      <th>V0301</th>\n",
       "      <th>V0302</th>\n",
       "      <th>V3031</th>\n",
       "      <th>V3032</th>\n",
       "      <th>V3033</th>\n",
       "      <th>V8005</th>\n",
       "      <th>...</th>\n",
       "      <th>V4741</th>\n",
       "      <th>V4742</th>\n",
       "      <th>V4743</th>\n",
       "      <th>V4745</th>\n",
       "      <th>V4746</th>\n",
       "      <th>V4747</th>\n",
       "      <th>V4748</th>\n",
       "      <th>V4749</th>\n",
       "      <th>V4750</th>\n",
       "      <th>V9993</th>\n",
       "    </tr>\n",
       "  </thead>\n",
       "  <tbody>\n",
       "    <tr>\n",
       "      <th>0</th>\n",
       "      <td>2014</td>\n",
       "      <td>11</td>\n",
       "      <td>15</td>\n",
       "      <td>1</td>\n",
       "      <td>1</td>\n",
       "      <td>2</td>\n",
       "      <td>19</td>\n",
       "      <td>8</td>\n",
       "      <td>1987</td>\n",
       "      <td>27</td>\n",
       "      <td>...</td>\n",
       "      <td>3.0</td>\n",
       "      <td>500.0</td>\n",
       "      <td>3.0</td>\n",
       "      <td>3</td>\n",
       "      <td>1.0</td>\n",
       "      <td>2.0</td>\n",
       "      <td>2.0</td>\n",
       "      <td>1.0</td>\n",
       "      <td>500.0</td>\n",
       "      <td>20160623</td>\n",
       "    </tr>\n",
       "    <tr>\n",
       "      <th>1</th>\n",
       "      <td>2014</td>\n",
       "      <td>11</td>\n",
       "      <td>15</td>\n",
       "      <td>1</td>\n",
       "      <td>2</td>\n",
       "      <td>4</td>\n",
       "      <td>19</td>\n",
       "      <td>1</td>\n",
       "      <td>1986</td>\n",
       "      <td>28</td>\n",
       "      <td>...</td>\n",
       "      <td>3.0</td>\n",
       "      <td>500.0</td>\n",
       "      <td>3.0</td>\n",
       "      <td>4</td>\n",
       "      <td>2.0</td>\n",
       "      <td>NaN</td>\n",
       "      <td>2.0</td>\n",
       "      <td>1.0</td>\n",
       "      <td>500.0</td>\n",
       "      <td>20160623</td>\n",
       "    </tr>\n",
       "    <tr>\n",
       "      <th>2</th>\n",
       "      <td>2014</td>\n",
       "      <td>11</td>\n",
       "      <td>15</td>\n",
       "      <td>1</td>\n",
       "      <td>3</td>\n",
       "      <td>2</td>\n",
       "      <td>14</td>\n",
       "      <td>5</td>\n",
       "      <td>2013</td>\n",
       "      <td>1</td>\n",
       "      <td>...</td>\n",
       "      <td>3.0</td>\n",
       "      <td>500.0</td>\n",
       "      <td>3.0</td>\n",
       "      <td>1</td>\n",
       "      <td>NaN</td>\n",
       "      <td>NaN</td>\n",
       "      <td>NaN</td>\n",
       "      <td>NaN</td>\n",
       "      <td>500.0</td>\n",
       "      <td>20160623</td>\n",
       "    </tr>\n",
       "    <tr>\n",
       "      <th>3</th>\n",
       "      <td>2014</td>\n",
       "      <td>11</td>\n",
       "      <td>15</td>\n",
       "      <td>2</td>\n",
       "      <td>1</td>\n",
       "      <td>2</td>\n",
       "      <td>8</td>\n",
       "      <td>4</td>\n",
       "      <td>1963</td>\n",
       "      <td>51</td>\n",
       "      <td>...</td>\n",
       "      <td>2.0</td>\n",
       "      <td>1150.0</td>\n",
       "      <td>4.0</td>\n",
       "      <td>2</td>\n",
       "      <td>1.0</td>\n",
       "      <td>2.0</td>\n",
       "      <td>2.0</td>\n",
       "      <td>1.0</td>\n",
       "      <td>1150.0</td>\n",
       "      <td>20160623</td>\n",
       "    </tr>\n",
       "    <tr>\n",
       "      <th>4</th>\n",
       "      <td>2014</td>\n",
       "      <td>11</td>\n",
       "      <td>15</td>\n",
       "      <td>2</td>\n",
       "      <td>2</td>\n",
       "      <td>4</td>\n",
       "      <td>6</td>\n",
       "      <td>11</td>\n",
       "      <td>1970</td>\n",
       "      <td>43</td>\n",
       "      <td>...</td>\n",
       "      <td>2.0</td>\n",
       "      <td>1150.0</td>\n",
       "      <td>4.0</td>\n",
       "      <td>3</td>\n",
       "      <td>1.0</td>\n",
       "      <td>2.0</td>\n",
       "      <td>2.0</td>\n",
       "      <td>1.0</td>\n",
       "      <td>1150.0</td>\n",
       "      <td>20160623</td>\n",
       "    </tr>\n",
       "  </tbody>\n",
       "</table>\n",
       "<p>5 rows × 341 columns</p>\n",
       "</div>"
      ],
      "text/plain": [
       "Coluna  V0101  UF  V0102  V0103  V0301  V0302  V3031  V3032  V3033  V8005  \\\n",
       "0        2014  11     15      1      1      2     19      8   1987     27   \n",
       "1        2014  11     15      1      2      4     19      1   1986     28   \n",
       "2        2014  11     15      1      3      2     14      5   2013      1   \n",
       "3        2014  11     15      2      1      2      8      4   1963     51   \n",
       "4        2014  11     15      2      2      4      6     11   1970     43   \n",
       "\n",
       "Coluna    ...     V4741   V4742  V4743  V4745  V4746  V4747  V4748  V4749  \\\n",
       "0         ...       3.0   500.0    3.0      3    1.0    2.0    2.0    1.0   \n",
       "1         ...       3.0   500.0    3.0      4    2.0    NaN    2.0    1.0   \n",
       "2         ...       3.0   500.0    3.0      1    NaN    NaN    NaN    NaN   \n",
       "3         ...       2.0  1150.0    4.0      2    1.0    2.0    2.0    1.0   \n",
       "4         ...       2.0  1150.0    4.0      3    1.0    2.0    2.0    1.0   \n",
       "\n",
       "Coluna   V4750     V9993  \n",
       "0        500.0  20160623  \n",
       "1        500.0  20160623  \n",
       "2        500.0  20160623  \n",
       "3       1150.0  20160623  \n",
       "4       1150.0  20160623  \n",
       "\n",
       "[5 rows x 341 columns]"
      ]
     },
     "execution_count": 282,
     "metadata": {},
     "output_type": "execute_result"
    }
   ],
   "source": [
    "dados.head()"
   ]
  },
  {
   "cell_type": "code",
   "execution_count": 283,
   "metadata": {
    "collapsed": true
   },
   "outputs": [],
   "source": [
    "# UF\n",
    "dados.UF = dados.UF.astype('category')\n",
    "dados.UF.cat.categories = ('RO','AC','AM','RR','PA','AP','TO','MA','PI','CE','RN','PB','PE','AL','SE','BA','MG','ES','RJ','SP','PR','SC','RS','MS','MT','GO','DF')\n",
    "\n",
    "#dados.REGIAO = dados.UF\n"
   ]
  },
  {
   "cell_type": "code",
   "execution_count": 284,
   "metadata": {
    "collapsed": true
   },
   "outputs": [],
   "source": [
    "# Idade\n",
    "dados.V8005 = dados.V8005.astype('float')\n"
   ]
  },
  {
   "cell_type": "code",
   "execution_count": 291,
   "metadata": {
    "collapsed": false
   },
   "outputs": [
    {
     "name": "stderr",
     "output_type": "stream",
     "text": [
      "C:\\Users\\trcar\\Anaconda3\\lib\\site-packages\\ipykernel\\__main__.py:6: SettingWithCopyWarning: \n",
      "A value is trying to be set on a copy of a slice from a DataFrame\n",
      "\n",
      "See the caveats in the documentation: http://pandas.pydata.org/pandas-docs/stable/indexing.html#indexing-view-versus-copy\n",
      "C:\\Users\\trcar\\Anaconda3\\lib\\site-packages\\ipykernel\\__main__.py:7: SettingWithCopyWarning: \n",
      "A value is trying to be set on a copy of a slice from a DataFrame\n",
      "\n",
      "See the caveats in the documentation: http://pandas.pydata.org/pandas-docs/stable/indexing.html#indexing-view-versus-copy\n"
     ]
    }
   ],
   "source": [
    "# Aposentados\n",
    "dados.APOSENT = dados.V9122\n",
    "dados.V9122 = dados.V9122.astype('category')\n",
    "dados.V9122.cat.categories = ('Aposentado', 'Não_aposentado')\n",
    "\n",
    "dados.APOSENT[(dados.V9122 == 'Aposentado')] = \"Aposentado\"\n",
    "dados.APOSENT[(dados.V9122 == 'Não_aposentado')] = \"Não_aposentado\""
   ]
  },
  {
   "cell_type": "markdown",
   "metadata": {},
   "source": [
    "## Tratamento de dados em relção ao auxílio recebido"
   ]
  },
  {
   "cell_type": "markdown",
   "metadata": {},
   "source": [
    "### Variável Auxílio Moradia (V9043)"
   ]
  },
  {
   "cell_type": "code",
   "execution_count": 292,
   "metadata": {
    "collapsed": false
   },
   "outputs": [],
   "source": [
    "# Auxílio moradia\n",
    "dados.V9043 = dados.V9043.astype('category')\n",
    "dados.V9043.cat.categories = ('Sim', 'Não')"
   ]
  },
  {
   "cell_type": "code",
   "execution_count": 293,
   "metadata": {
    "collapsed": false
   },
   "outputs": [
    {
     "name": "stdout",
     "output_type": "stream",
     "text": [
      "População que recebeu auxílio moradia:\n"
     ]
    },
    {
     "data": {
      "text/html": [
       "<div>\n",
       "<table border=\"1\" class=\"dataframe\">\n",
       "  <thead>\n",
       "    <tr style=\"text-align: right;\">\n",
       "      <th>Aposentado</th>\n",
       "      <th>Aposentado</th>\n",
       "      <th>Não_aposentado</th>\n",
       "    </tr>\n",
       "    <tr>\n",
       "      <th>Auxílio</th>\n",
       "      <th></th>\n",
       "      <th></th>\n",
       "    </tr>\n",
       "  </thead>\n",
       "  <tbody>\n",
       "    <tr>\n",
       "      <th>Sim</th>\n",
       "      <td>4737</td>\n",
       "      <td>162</td>\n",
       "    </tr>\n",
       "    <tr>\n",
       "      <th>Não</th>\n",
       "      <td>111722</td>\n",
       "      <td>2674</td>\n",
       "    </tr>\n",
       "  </tbody>\n",
       "</table>\n",
       "</div>"
      ],
      "text/plain": [
       "Aposentado  Aposentado  Não_aposentado\n",
       "Auxílio                               \n",
       "Sim               4737             162\n",
       "Não             111722            2674"
      ]
     },
     "execution_count": 293,
     "metadata": {},
     "output_type": "execute_result"
    }
   ],
   "source": [
    "print('População que recebeu auxílio moradia:')\n",
    "tcam=pd.crosstab(dados.V9043,dados.V9122,rownames=['Auxílio'], colnames=['Aposentado'])\n",
    "tcam = tcam.fillna(0)\n",
    "tcam"
   ]
  },
  {
   "cell_type": "code",
   "execution_count": 294,
   "metadata": {
    "collapsed": false
   },
   "outputs": [
    {
     "data": {
      "text/plain": [
       "<matplotlib.axes._subplots.AxesSubplot at 0x25e8b7017b8>"
      ]
     },
     "execution_count": 294,
     "metadata": {},
     "output_type": "execute_result"
    },
    {
     "data": {
      "image/png": "[encoded data removed]",
      "text/plain": [
       "<matplotlib.figure.Figure at 0x25eb253b9b0>"
      ]
     },
     "metadata": {},
     "output_type": "display_data"
    }
   ],
   "source": [
    "tcam.Aposentado.plot.pie(title= 'Porcentagem dos aposentados que receberam auxílio moradia', figsize=(6,6), colormap=\"rainbow\", autopct=\"%0.2f\")"
   ]
  },
  {
   "cell_type": "code",
   "execution_count": 295,
   "metadata": {
    "collapsed": false
   },
   "outputs": [
    {
     "data": {
      "text/plain": [
       "<matplotlib.axes._subplots.AxesSubplot at 0x25e8b639fd0>"
      ]
     },
     "execution_count": 295,
     "metadata": {},
     "output_type": "execute_result"
    },
    {
     "data": {
      "image/png": "[encoded data removed]",
      "text/plain": [
       "<matplotlib.figure.Figure at 0x2619a534da0>"
      ]
     },
     "metadata": {},
     "output_type": "display_data"
    }
   ],
   "source": [
    "tcam.Não_aposentado.plot.pie(title= 'Porcentagem dos não aposentados que receberam auxílio moradia', figsize=(6,6), colormap=\"rainbow\", autopct=\"%0.2f\")"
   ]
  },
  {
   "cell_type": "markdown",
   "metadata": {},
   "source": [
    "#### Conclusão\n",
    "    \n",
    "    A variável mostra que, comparando aposentados com não aposentados, a porcentagem do primeiro grupo que necessita de auxílio moradia é maior do que a do segundo grupo; revelando que, nesse quesito, os aposetados estão em uma condição pior do que os não aposentados."
   ]
  },
  {
   "cell_type": "markdown",
   "metadata": {},
   "source": [
    "### Variável Auxílio Alimentação (V9044)"
   ]
  },
  {
   "cell_type": "code",
   "execution_count": 296,
   "metadata": {
    "collapsed": false
   },
   "outputs": [],
   "source": [
    "dados.V9044 = dados.V9044.astype('category')\n",
    "dados.V9044.cat.categories = ('Sim', 'Não')"
   ]
  },
  {
   "cell_type": "code",
   "execution_count": 297,
   "metadata": {
    "collapsed": false
   },
   "outputs": [
    {
     "name": "stdout",
     "output_type": "stream",
     "text": [
      "População que recebeu auxílio alimentação:\n"
     ]
    },
    {
     "data": {
      "text/html": [
       "<div>\n",
       "<table border=\"1\" class=\"dataframe\">\n",
       "  <thead>\n",
       "    <tr style=\"text-align: right;\">\n",
       "      <th>Aposentados</th>\n",
       "      <th>Aposentado</th>\n",
       "      <th>Não_aposentado</th>\n",
       "    </tr>\n",
       "    <tr>\n",
       "      <th>Auxílio</th>\n",
       "      <th></th>\n",
       "      <th></th>\n",
       "    </tr>\n",
       "  </thead>\n",
       "  <tbody>\n",
       "    <tr>\n",
       "      <th>Sim</th>\n",
       "      <td>51912</td>\n",
       "      <td>1136</td>\n",
       "    </tr>\n",
       "    <tr>\n",
       "      <th>Não</th>\n",
       "      <td>64547</td>\n",
       "      <td>1700</td>\n",
       "    </tr>\n",
       "  </tbody>\n",
       "</table>\n",
       "</div>"
      ],
      "text/plain": [
       "Aposentados  Aposentado  Não_aposentado\n",
       "Auxílio                                \n",
       "Sim               51912            1136\n",
       "Não               64547            1700"
      ]
     },
     "execution_count": 297,
     "metadata": {},
     "output_type": "execute_result"
    }
   ],
   "source": [
    "print('População que recebeu auxílio alimentação:')\n",
    "tcaa=pd.crosstab(dados.V9044,dados.V9122,rownames=['Auxílio'], colnames=['Aposentados'])\n",
    "tcaa = tcaa.fillna(0)\n",
    "tcaa"
   ]
  },
  {
   "cell_type": "code",
   "execution_count": 298,
   "metadata": {
    "collapsed": false
   },
   "outputs": [
    {
     "data": {
      "text/plain": [
       "<matplotlib.axes._subplots.AxesSubplot at 0x2619123a470>"
      ]
     },
     "execution_count": 298,
     "metadata": {},
     "output_type": "execute_result"
    },
    {
     "data": {
      "image/png": "[encoded data removed]",
      "text/plain": [
       "<matplotlib.figure.Figure at 0x261940299e8>"
      ]
     },
     "metadata": {},
     "output_type": "display_data"
    }
   ],
   "source": [
    "tcaa.Aposentado.plot.pie(title= 'Porcentagem dos aposentados que receberam auxílio alimentação', figsize=(6,6), colormap=\"rainbow\", autopct=\"%0.2f\")"
   ]
  },
  {
   "cell_type": "code",
   "execution_count": 299,
   "metadata": {
    "collapsed": false
   },
   "outputs": [
    {
     "data": {
      "text/plain": [
       "<matplotlib.axes._subplots.AxesSubplot at 0x261940282b0>"
      ]
     },
     "execution_count": 299,
     "metadata": {},
     "output_type": "execute_result"
    },
    {
     "data": {
      "image/png": "[encoded data removed]",
      "text/plain": [
       "<matplotlib.figure.Figure at 0x26186716e48>"
      ]
     },
     "metadata": {},
     "output_type": "display_data"
    }
   ],
   "source": [
    "tcaa.Não_aposentado.plot.pie(title= 'Porcentagem dos não aposentados que receberam auxílio alimentação', figsize=(6,6), colormap=\"rainbow\", autopct=\"%0.2f\")"
   ]
  },
  {
   "cell_type": "markdown",
   "metadata": {},
   "source": [
    "#### Conclusão\n",
    "\n",
    "    Ja de acordo com os resultados relevantes ao auxílio alimentação, é visível que os aposentados estão em uma situação melhor que os não aposentados; visto que este grupo possui uma maior porcentagem de beneficiados pelo auxílio do que o anterior."
   ]
  },
  {
   "cell_type": "markdown",
   "metadata": {},
   "source": [
    "### Variável Auxílio Transporte (V9045)"
   ]
  },
  {
   "cell_type": "code",
   "execution_count": 300,
   "metadata": {
    "collapsed": true
   },
   "outputs": [],
   "source": [
    "dados.V9045 = dados.V9045.astype('category')\n",
    "dados.V9045.cat.categories = ('Sim', 'Não')"
   ]
  },
  {
   "cell_type": "code",
   "execution_count": 301,
   "metadata": {
    "collapsed": false
   },
   "outputs": [
    {
     "name": "stdout",
     "output_type": "stream",
     "text": [
      "População que recebeu auxílio transporte:\n"
     ]
    },
    {
     "data": {
      "text/html": [
       "<div>\n",
       "<table border=\"1\" class=\"dataframe\">\n",
       "  <thead>\n",
       "    <tr style=\"text-align: right;\">\n",
       "      <th>Aposentados</th>\n",
       "      <th>Aposentado</th>\n",
       "      <th>Não_aposentado</th>\n",
       "    </tr>\n",
       "    <tr>\n",
       "      <th>Auxílio</th>\n",
       "      <th></th>\n",
       "      <th></th>\n",
       "    </tr>\n",
       "  </thead>\n",
       "  <tbody>\n",
       "    <tr>\n",
       "      <th>Sim</th>\n",
       "      <td>47880</td>\n",
       "      <td>828</td>\n",
       "    </tr>\n",
       "    <tr>\n",
       "      <th>Não</th>\n",
       "      <td>68579</td>\n",
       "      <td>2008</td>\n",
       "    </tr>\n",
       "  </tbody>\n",
       "</table>\n",
       "</div>"
      ],
      "text/plain": [
       "Aposentados  Aposentado  Não_aposentado\n",
       "Auxílio                                \n",
       "Sim               47880             828\n",
       "Não               68579            2008"
      ]
     },
     "execution_count": 301,
     "metadata": {},
     "output_type": "execute_result"
    }
   ],
   "source": [
    "print('População que recebeu auxílio transporte:')\n",
    "tcat=pd.crosstab(dados.V9045,dados.V9122,rownames=['Auxílio'], colnames=['Aposentados'])\n",
    "tcat = tcat.fillna(0)\n",
    "tcat"
   ]
  },
  {
   "cell_type": "code",
   "execution_count": 302,
   "metadata": {
    "collapsed": false
   },
   "outputs": [
    {
     "data": {
      "text/plain": [
       "<matplotlib.axes._subplots.AxesSubplot at 0x26186716898>"
      ]
     },
     "execution_count": 302,
     "metadata": {},
     "output_type": "execute_result"
    },
    {
     "data": {
      "image/png": "[encoded data removed]",
      "text/plain": [
       "<matplotlib.figure.Figure at 0x2612a4adbe0>"
      ]
     },
     "metadata": {},
     "output_type": "display_data"
    }
   ],
   "source": [
    "tcat.Aposentado.plot.pie(title= 'Porcentagem dos aposentados que receberam auxílio transporte', figsize=(6,6), colormap=\"rainbow\", autopct=\"%0.2f\")"
   ]
  },
  {
   "cell_type": "code",
   "execution_count": 303,
   "metadata": {
    "collapsed": false
   },
   "outputs": [
    {
     "data": {
      "text/plain": [
       "<matplotlib.axes._subplots.AxesSubplot at 0x26119d69080>"
      ]
     },
     "execution_count": 303,
     "metadata": {},
     "output_type": "execute_result"
    },
    {
     "data": {
      "image/png": "[encoded data removed]",
      "text/plain": [
       "<matplotlib.figure.Figure at 0x2611f0062e8>"
      ]
     },
     "metadata": {},
     "output_type": "display_data"
    }
   ],
   "source": [
    "tcat.Não_aposentado.plot.pie(title= 'Porcentagem dos não aposentados que receberam auxílio transporte', figsize=(6,6), colormap=\"rainbow\", autopct=\"%0.2f\")"
   ]
  },
  {
   "cell_type": "markdown",
   "metadata": {},
   "source": [
    "#### Conclusão\n",
    "\n",
    "    A variável auxílio transporte revela que, os não aposentados possuem uma maior necessidade de auxílio transporte do que os aposentados; portanto, este grupo apresenta uma melhor situação do que aquele."
   ]
  },
  {
   "cell_type": "markdown",
   "metadata": {},
   "source": [
    "### Variável Auxílio Educação (V9046)"
   ]
  },
  {
   "cell_type": "code",
   "execution_count": 304,
   "metadata": {
    "collapsed": true
   },
   "outputs": [],
   "source": [
    "dados.V9046 = dados.V9046.astype('category')\n",
    "dados.V9046.cat.categories = ('Sim', 'Não')"
   ]
  },
  {
   "cell_type": "code",
   "execution_count": 305,
   "metadata": {
    "collapsed": false
   },
   "outputs": [
    {
     "name": "stdout",
     "output_type": "stream",
     "text": [
      "População que recebeu auxílio educação:\n"
     ]
    },
    {
     "data": {
      "text/html": [
       "<div>\n",
       "<table border=\"1\" class=\"dataframe\">\n",
       "  <thead>\n",
       "    <tr style=\"text-align: right;\">\n",
       "      <th>Aposentados</th>\n",
       "      <th>Aposentado</th>\n",
       "      <th>Não_aposentado</th>\n",
       "    </tr>\n",
       "    <tr>\n",
       "      <th>Auxílio</th>\n",
       "      <th></th>\n",
       "      <th></th>\n",
       "    </tr>\n",
       "  </thead>\n",
       "  <tbody>\n",
       "    <tr>\n",
       "      <th>Sim</th>\n",
       "      <td>2928</td>\n",
       "      <td>42</td>\n",
       "    </tr>\n",
       "    <tr>\n",
       "      <th>Não</th>\n",
       "      <td>113531</td>\n",
       "      <td>2794</td>\n",
       "    </tr>\n",
       "  </tbody>\n",
       "</table>\n",
       "</div>"
      ],
      "text/plain": [
       "Aposentados  Aposentado  Não_aposentado\n",
       "Auxílio                                \n",
       "Sim                2928              42\n",
       "Não              113531            2794"
      ]
     },
     "execution_count": 305,
     "metadata": {},
     "output_type": "execute_result"
    }
   ],
   "source": [
    "print('População que recebeu auxílio educação:')\n",
    "tcae=pd.crosstab(dados.V9046,dados.V9122,rownames=['Auxílio'], colnames=['Aposentados'])\n",
    "tcae = tcae.fillna(0)\n",
    "tcae"
   ]
  },
  {
   "cell_type": "code",
   "execution_count": 306,
   "metadata": {
    "collapsed": false
   },
   "outputs": [
    {
     "data": {
      "text/plain": [
       "<matplotlib.axes._subplots.AxesSubplot at 0x26196d46c50>"
      ]
     },
     "execution_count": 306,
     "metadata": {},
     "output_type": "execute_result"
    },
    {
     "data": {
      "image/png": "[encoded data removed]",
      "text/plain": [
       "<matplotlib.figure.Figure at 0x2611f006208>"
      ]
     },
     "metadata": {},
     "output_type": "display_data"
    }
   ],
   "source": [
    "tcae.Aposentado.plot.pie(title= 'Porcentagem dos aposentados que receberam auxílio educação', figsize=(6,6), colormap=\"rainbow\", autopct=\"%0.2f\")"
   ]
  },
  {
   "cell_type": "code",
   "execution_count": 307,
   "metadata": {
    "collapsed": false
   },
   "outputs": [
    {
     "data": {
      "text/plain": [
       "<matplotlib.axes._subplots.AxesSubplot at 0x261894feba8>"
      ]
     },
     "execution_count": 307,
     "metadata": {},
     "output_type": "execute_result"
    },
    {
     "data": {
      "image/png": "[encoded data removed]",
      "text/plain": [
       "<matplotlib.figure.Figure at 0x2618e5f2278>"
      ]
     },
     "metadata": {},
     "output_type": "display_data"
    }
   ],
   "source": [
    "tcae.Não_aposentado.plot.pie(title= 'Porcentagem dos não aposentados que receberam auxílio educação', figsize=(6,6), colormap=\"rainbow\", autopct=\"%0.2f\")"
   ]
  },
  {
   "cell_type": "markdown",
   "metadata": {},
   "source": [
    "#### Conclusão\n",
    "\n",
    "    Na variável auxílio educaçaõ é visto que a porcentagem de não idosos que necessitam de auxílio educação é maior que a de não idosos; revelando que o primeiro grupo está pior que o segundo grupo nesse quesito."
   ]
  },
  {
   "cell_type": "markdown",
   "metadata": {},
   "source": [
    "### Variável Auxílio Saúde (V9047)"
   ]
  },
  {
   "cell_type": "code",
   "execution_count": 308,
   "metadata": {
    "collapsed": true
   },
   "outputs": [],
   "source": [
    "# Auxílio saúde\n",
    "dados.V9047 = dados.V9047.astype('category')\n",
    "dados.V9047.cat.categories = ('Sim', 'Não')"
   ]
  },
  {
   "cell_type": "code",
   "execution_count": 309,
   "metadata": {
    "collapsed": false
   },
   "outputs": [
    {
     "name": "stdout",
     "output_type": "stream",
     "text": [
      "População que recebeu auxílio saúde:\n"
     ]
    },
    {
     "data": {
      "text/html": [
       "<div>\n",
       "<table border=\"1\" class=\"dataframe\">\n",
       "  <thead>\n",
       "    <tr style=\"text-align: right;\">\n",
       "      <th>Aposentados</th>\n",
       "      <th>Aposentado</th>\n",
       "      <th>Não_aposentado</th>\n",
       "    </tr>\n",
       "    <tr>\n",
       "      <th>Auxílio</th>\n",
       "      <th></th>\n",
       "      <th></th>\n",
       "    </tr>\n",
       "  </thead>\n",
       "  <tbody>\n",
       "    <tr>\n",
       "      <th>Sim</th>\n",
       "      <td>21864</td>\n",
       "      <td>591</td>\n",
       "    </tr>\n",
       "    <tr>\n",
       "      <th>Não</th>\n",
       "      <td>94595</td>\n",
       "      <td>2245</td>\n",
       "    </tr>\n",
       "  </tbody>\n",
       "</table>\n",
       "</div>"
      ],
      "text/plain": [
       "Aposentados  Aposentado  Não_aposentado\n",
       "Auxílio                                \n",
       "Sim               21864             591\n",
       "Não               94595            2245"
      ]
     },
     "execution_count": 309,
     "metadata": {},
     "output_type": "execute_result"
    }
   ],
   "source": [
    "print('População que recebeu auxílio saúde:')\n",
    "tcas=pd.crosstab(dados.V9047,dados.V9122,rownames=['Auxílio'], colnames=['Aposentados'])\n",
    "tcas = tcas.fillna(0)\n",
    "tcas"
   ]
  },
  {
   "cell_type": "code",
   "execution_count": 310,
   "metadata": {
    "collapsed": false
   },
   "outputs": [
    {
     "data": {
      "text/plain": [
       "<matplotlib.axes._subplots.AxesSubplot at 0x2618e5f2c50>"
      ]
     },
     "execution_count": 310,
     "metadata": {},
     "output_type": "execute_result"
    },
    {
     "data": {
      "image/png": "[encoded data removed]",
      "text/plain": [
       "<matplotlib.figure.Figure at 0x2618913cac8>"
      ]
     },
     "metadata": {},
     "output_type": "display_data"
    }
   ],
   "source": [
    "tcas.Aposentado.plot.pie(title= 'Porcentagem dos aposentados que receberam auxílio saúde', figsize=(6,6), colormap=\"rainbow\", autopct=\"%0.2f\")"
   ]
  },
  {
   "cell_type": "code",
   "execution_count": 311,
   "metadata": {
    "collapsed": false
   },
   "outputs": [
    {
     "data": {
      "text/plain": [
       "<matplotlib.axes._subplots.AxesSubplot at 0x26186851630>"
      ]
     },
     "execution_count": 311,
     "metadata": {},
     "output_type": "execute_result"
    },
    {
     "data": {
      "image/png": "[encoded data removed]",
      "text/plain": [
       "<matplotlib.figure.Figure at 0x26186844c88>"
      ]
     },
     "metadata": {},
     "output_type": "display_data"
    }
   ],
   "source": [
    "tcas.Não_aposentado.plot.pie(title= 'Porcentagem dos não aposentados que receberam auxílio saúde', figsize=(6,6), colormap=\"rainbow\", autopct=\"%0.2f\")"
   ]
  },
  {
   "cell_type": "markdown",
   "metadata": {},
   "source": [
    "#### Conclusão\n",
    "\n",
    "    Por fim, a variável auxílio saúde mostra que a porcentagem de aposentados que necessitam desse auxílio é muito maior do que a porcentagem dos não idosos; ou seja, nesse quesito os aposentados estão em uma situação mais precária que os não aposentados."
   ]
  },
  {
   "cell_type": "markdown",
   "metadata": {
    "collapsed": true
   },
   "source": [
    "### Conclusão das variáveis relacionadas ao auxílio recebido\n",
    "\n",
    "    Após a análise das cinco variáveis, obtem-se que em apenas duas os aposentados apresentaram uma condição pior que os não aposentados sendo essas auxílio moradia e auxílio saúde. \n",
    "    \n",
    "    Mas independente desse resultado é visível uma falha dentro do sistema de previdência, pois uma renda atribuída a um cidadão aposentado teóricamente deveria ser suficiente para suprir todas as suas necessidades básicas; mas, ainda sim, todas as variáveis apresentaram uma parcela da população de aposentados que necessita de algum auxílio."
   ]
  },
  {
   "cell_type": "markdown",
   "metadata": {},
   "source": [
    "### Análise variável renda per capita"
   ]
  },
  {
   "cell_type": "markdown",
   "metadata": {},
   "source": [
    "#### Renda per capita 2014"
   ]
  },
  {
   "cell_type": "code",
   "execution_count": 312,
   "metadata": {
    "collapsed": true
   },
   "outputs": [],
   "source": [
    "dados.V4750 = dados.V4750.astype('float')"
   ]
  },
  {
   "cell_type": "code",
   "execution_count": 313,
   "metadata": {
    "collapsed": false
   },
   "outputs": [
    {
     "data": {
      "text/plain": [
       "(0, 1000]         247915\n",
       "(1000, 2000]       63458\n",
       "(2000, 3000]       16032\n",
       "(3000, 4000]        7264\n",
       "(4000, 5000]        3818\n",
       "(5000, 6000]        2237\n",
       "(6000, 7000]        1463\n",
       "(7000, 8000]         914\n",
       "(8000, 9000]         669\n",
       "(9000, 10000]        539\n",
       "(10000, 11000]       287\n",
       "(11000, 12000]       234\n",
       "(12000, 13000]       225\n",
       "(14000, 15000]       139\n",
       "(13000, 14000]       134\n",
       "(15000, 16000]        92\n",
       "(16000, 17000]        67\n",
       "(17000, 18000]        49\n",
       "(18000, 19000]        39\n",
       "Name: V4750, dtype: int64"
      ]
     },
     "execution_count": 313,
     "metadata": {},
     "output_type": "execute_result"
    }
   ],
   "source": [
    "renda = dados.V4750\n",
    "faixas_renda = range(0,20000, 1000)\n",
    "classe = pd.cut(renda, faixas_renda)\n",
    "classe.value_counts()"
   ]
  },
  {
   "cell_type": "code",
   "execution_count": 314,
   "metadata": {
    "collapsed": false
   },
   "outputs": [
    {
     "data": {
      "image/png": "[encoded data removed]",
      "text/plain": [
       "<matplotlib.figure.Figure at 0x2618236f748>"
      ]
     },
     "metadata": {},
     "output_type": "display_data"
    }
   ],
   "source": [
    "intervalo_renda = np.arange(0, 20000, 1000)\n",
    "renda = renda.fillna(0)\n",
    "histograma2 = renda.plot.hist(bins=intervalo_renda, normed=1)"
   ]
  },
  {
   "cell_type": "code",
   "execution_count": 315,
   "metadata": {
    "collapsed": false
   },
   "outputs": [
    {
     "data": {
      "text/plain": [
       "<matplotlib.axes._subplots.AxesSubplot at 0x2613b35b908>"
      ]
     },
     "execution_count": 315,
     "metadata": {},
     "output_type": "execute_result"
    },
    {
     "data": {
      "image/png": "[encoded data removed]",
      "text/plain": [
       "<matplotlib.figure.Figure at 0x2613d0b85f8>"
      ]
     },
     "metadata": {},
     "output_type": "display_data"
    }
   ],
   "source": [
    "renda = renda[renda != 999999999999]\n",
    "renda.plot.box()"
   ]
  },
  {
   "cell_type": "code",
   "execution_count": 316,
   "metadata": {
    "collapsed": false
   },
   "outputs": [
    {
     "data": {
      "text/plain": [
       "count    350190.00000\n",
       "mean       1016.16314\n",
       "std        1658.19055\n",
       "min           0.00000\n",
       "25%         344.00000\n",
       "50%         635.00000\n",
       "75%        1100.00000\n",
       "max      331200.00000\n",
       "Name: V4750, dtype: float64"
      ]
     },
     "execution_count": 316,
     "metadata": {},
     "output_type": "execute_result"
    }
   ],
   "source": [
    "renda.describe()"
   ]
  },
  {
   "cell_type": "code",
   "execution_count": 348,
   "metadata": {
    "collapsed": false
   },
   "outputs": [
    {
     "data": {
      "text/plain": [
       "<matplotlib.axes._subplots.AxesSubplot at 0x2609afaa940>"
      ]
     },
     "execution_count": 348,
     "metadata": {},
     "output_type": "execute_result"
    },
    {
     "data": {
      "image/png": "[encoded data removed]",
      "text/plain": [
       "<matplotlib.figure.Figure at 0x2609ac650b8>"
      ]
     },
     "metadata": {},
     "output_type": "display_data"
    }
   ],
   "source": [
    "dados[dados.V4750 < 300000].boxplot(column= \"V4750\", by=\"V9122\", figsize=(10,10))"
   ]
  },
  {
   "cell_type": "markdown",
   "metadata": {},
   "source": []
  },
  {
   "cell_type": "code",
   "execution_count": 319,
   "metadata": {
    "collapsed": false
   },
   "outputs": [],
   "source": [
    "rendaf = dados[(dados.V9122 == 'Aposentado') & (renda)]\n",
    "#rendaaposentados = dados.V9122[(renda)]\n",
    "rendaaposentados = rendaf.V4750"
   ]
  },
  {
   "cell_type": "code",
   "execution_count": 320,
   "metadata": {
    "collapsed": false
   },
   "outputs": [
    {
     "data": {
      "text/plain": [
       "count    260450.000000\n",
       "mean       1027.522580\n",
       "std        1534.699418\n",
       "min           1.000000\n",
       "25%         362.000000\n",
       "50%         647.000000\n",
       "75%        1125.000000\n",
       "max      100000.000000\n",
       "Name: V4750, dtype: float64"
      ]
     },
     "execution_count": 320,
     "metadata": {},
     "output_type": "execute_result"
    }
   ],
   "source": [
    "rendaaposentados.describe()"
   ]
  },
  {
   "cell_type": "markdown",
   "metadata": {},
   "source": [
    "#### Renda per capita 2013"
   ]
  },
  {
   "cell_type": "code",
   "execution_count": 321,
   "metadata": {
    "collapsed": false
   },
   "outputs": [],
   "source": [
    "dados2011 = pd.read_csv(\"PES2011.csv\",sep = ',')\n",
    "n2011 = dados2011.shape[0]"
   ]
  },
  {
   "cell_type": "code",
   "execution_count": 322,
   "metadata": {
    "collapsed": false
   },
   "outputs": [
    {
     "data": {
      "text/html": [
       "<div>\n",
       "<table border=\"1\" class=\"dataframe\">\n",
       "  <thead>\n",
       "    <tr style=\"text-align: right;\">\n",
       "      <th></th>\n",
       "      <th>V0101</th>\n",
       "      <th>UF</th>\n",
       "      <th>V0102</th>\n",
       "      <th>V0103</th>\n",
       "      <th>V0301</th>\n",
       "      <th>V0302</th>\n",
       "      <th>V3031</th>\n",
       "      <th>V3032</th>\n",
       "      <th>V3033</th>\n",
       "      <th>V8005</th>\n",
       "      <th>...</th>\n",
       "      <th>V4741</th>\n",
       "      <th>V4742</th>\n",
       "      <th>V4743</th>\n",
       "      <th>V4745</th>\n",
       "      <th>V4746</th>\n",
       "      <th>V4747</th>\n",
       "      <th>V4748</th>\n",
       "      <th>V4749</th>\n",
       "      <th>V4750</th>\n",
       "      <th>V9993</th>\n",
       "    </tr>\n",
       "  </thead>\n",
       "  <tbody>\n",
       "    <tr>\n",
       "      <th>0</th>\n",
       "      <td>2011</td>\n",
       "      <td>11</td>\n",
       "      <td>11000000.0</td>\n",
       "      <td>1</td>\n",
       "      <td>1</td>\n",
       "      <td>2</td>\n",
       "      <td>25</td>\n",
       "      <td>12</td>\n",
       "      <td>1961</td>\n",
       "      <td>49</td>\n",
       "      <td>...</td>\n",
       "      <td>4.0</td>\n",
       "      <td>1.000000e+12</td>\n",
       "      <td>99.0</td>\n",
       "      <td>2</td>\n",
       "      <td>1.0</td>\n",
       "      <td>2.0</td>\n",
       "      <td>2.0</td>\n",
       "      <td>1.0</td>\n",
       "      <td>1.000000e+12</td>\n",
       "      <td>20100000.0</td>\n",
       "    </tr>\n",
       "    <tr>\n",
       "      <th>1</th>\n",
       "      <td>2011</td>\n",
       "      <td>11</td>\n",
       "      <td>11000000.0</td>\n",
       "      <td>1</td>\n",
       "      <td>2</td>\n",
       "      <td>4</td>\n",
       "      <td>1</td>\n",
       "      <td>4</td>\n",
       "      <td>1978</td>\n",
       "      <td>33</td>\n",
       "      <td>...</td>\n",
       "      <td>4.0</td>\n",
       "      <td>1.000000e+12</td>\n",
       "      <td>99.0</td>\n",
       "      <td>6</td>\n",
       "      <td>2.0</td>\n",
       "      <td>NaN</td>\n",
       "      <td>NaN</td>\n",
       "      <td>2.0</td>\n",
       "      <td>1.000000e+12</td>\n",
       "      <td>20100000.0</td>\n",
       "    </tr>\n",
       "    <tr>\n",
       "      <th>2</th>\n",
       "      <td>2011</td>\n",
       "      <td>11</td>\n",
       "      <td>11000000.0</td>\n",
       "      <td>1</td>\n",
       "      <td>3</td>\n",
       "      <td>4</td>\n",
       "      <td>15</td>\n",
       "      <td>6</td>\n",
       "      <td>1996</td>\n",
       "      <td>15</td>\n",
       "      <td>...</td>\n",
       "      <td>4.0</td>\n",
       "      <td>1.000000e+12</td>\n",
       "      <td>99.0</td>\n",
       "      <td>3</td>\n",
       "      <td>2.0</td>\n",
       "      <td>NaN</td>\n",
       "      <td>NaN</td>\n",
       "      <td>2.0</td>\n",
       "      <td>1.000000e+12</td>\n",
       "      <td>20100000.0</td>\n",
       "    </tr>\n",
       "    <tr>\n",
       "      <th>3</th>\n",
       "      <td>2011</td>\n",
       "      <td>11</td>\n",
       "      <td>11000000.0</td>\n",
       "      <td>1</td>\n",
       "      <td>4</td>\n",
       "      <td>2</td>\n",
       "      <td>3</td>\n",
       "      <td>12</td>\n",
       "      <td>2001</td>\n",
       "      <td>9</td>\n",
       "      <td>...</td>\n",
       "      <td>4.0</td>\n",
       "      <td>1.000000e+12</td>\n",
       "      <td>99.0</td>\n",
       "      <td>2</td>\n",
       "      <td>2.0</td>\n",
       "      <td>NaN</td>\n",
       "      <td>NaN</td>\n",
       "      <td>2.0</td>\n",
       "      <td>1.000000e+12</td>\n",
       "      <td>20100000.0</td>\n",
       "    </tr>\n",
       "    <tr>\n",
       "      <th>4</th>\n",
       "      <td>2011</td>\n",
       "      <td>11</td>\n",
       "      <td>11000000.0</td>\n",
       "      <td>2</td>\n",
       "      <td>1</td>\n",
       "      <td>4</td>\n",
       "      <td>16</td>\n",
       "      <td>10</td>\n",
       "      <td>1959</td>\n",
       "      <td>51</td>\n",
       "      <td>...</td>\n",
       "      <td>4.0</td>\n",
       "      <td>1.461000e+03</td>\n",
       "      <td>5.0</td>\n",
       "      <td>4</td>\n",
       "      <td>1.0</td>\n",
       "      <td>2.0</td>\n",
       "      <td>2.0</td>\n",
       "      <td>1.0</td>\n",
       "      <td>1.461000e+03</td>\n",
       "      <td>20100000.0</td>\n",
       "    </tr>\n",
       "  </tbody>\n",
       "</table>\n",
       "<p>5 rows × 324 columns</p>\n",
       "</div>"
      ],
      "text/plain": [
       "   V0101  UF       V0102  V0103  V0301  V0302  V3031  V3032  V3033  V8005  \\\n",
       "0   2011  11  11000000.0      1      1      2     25     12   1961     49   \n",
       "1   2011  11  11000000.0      1      2      4      1      4   1978     33   \n",
       "2   2011  11  11000000.0      1      3      4     15      6   1996     15   \n",
       "3   2011  11  11000000.0      1      4      2      3     12   2001      9   \n",
       "4   2011  11  11000000.0      2      1      4     16     10   1959     51   \n",
       "\n",
       "      ...      V4741         V4742  V4743  V4745  V4746  V4747  V4748  V4749  \\\n",
       "0     ...        4.0  1.000000e+12   99.0      2    1.0    2.0    2.0    1.0   \n",
       "1     ...        4.0  1.000000e+12   99.0      6    2.0    NaN    NaN    2.0   \n",
       "2     ...        4.0  1.000000e+12   99.0      3    2.0    NaN    NaN    2.0   \n",
       "3     ...        4.0  1.000000e+12   99.0      2    2.0    NaN    NaN    2.0   \n",
       "4     ...        4.0  1.461000e+03    5.0      4    1.0    2.0    2.0    1.0   \n",
       "\n",
       "          V4750       V9993  \n",
       "0  1.000000e+12  20100000.0  \n",
       "1  1.000000e+12  20100000.0  \n",
       "2  1.000000e+12  20100000.0  \n",
       "3  1.000000e+12  20100000.0  \n",
       "4  1.461000e+03  20100000.0  \n",
       "\n",
       "[5 rows x 324 columns]"
      ]
     },
     "execution_count": 322,
     "metadata": {},
     "output_type": "execute_result"
    }
   ],
   "source": [
    "dados2011.head()"
   ]
  },
  {
   "cell_type": "code",
   "execution_count": null,
   "metadata": {
    "collapsed": true
   },
   "outputs": [],
   "source": []
  },
  {
   "cell_type": "code",
   "execution_count": 340,
   "metadata": {
    "collapsed": false
   },
   "outputs": [],
   "source": [
    "dados2011.APOSENT2011 = dados2011.V9122\n",
    "dados2011.V9122 = dados2011.V9122.astype('category')\n",
    "dados2011.V9122.cat.categories = ('Aposentado*', 'Não_aposentado*')\n",
    "\n",
    "dados2011.APOSENT2011[(dados2011.V9122 == 'Aposentado*')] = \"Aposentado*\"\n",
    "dados2011.APOSENT2011[(dados2011.V9122 == 'Não_posentado*')] = \"Não_aposentado*\""
   ]
  },
  {
   "cell_type": "code",
   "execution_count": null,
   "metadata": {
    "collapsed": true
   },
   "outputs": [],
   "source": []
  },
  {
   "cell_type": "code",
   "execution_count": 341,
   "metadata": {
    "collapsed": false
   },
   "outputs": [
    {
     "data": {
      "text/plain": [
       "(0, 1000]         272190\n",
       "(1000, 2000]       40149\n",
       "(2000, 3000]       10329\n",
       "(3000, 4000]        4359\n",
       "(4000, 5000]        2360\n",
       "(5000, 6000]        1317\n",
       "(6000, 7000]         821\n",
       "(7000, 8000]         598\n",
       "(8000, 9000]         363\n",
       "(9000, 10000]        290\n",
       "(10000, 11000]       158\n",
       "(11000, 12000]       120\n",
       "(12000, 13000]        98\n",
       "(13000, 14000]        81\n",
       "(14000, 15000]        72\n",
       "(15000, 16000]        42\n",
       "(16000, 17000]        28\n",
       "(17000, 18000]        20\n",
       "(18000, 19000]        12\n",
       "Name: V4750, dtype: int64"
      ]
     },
     "execution_count": 341,
     "metadata": {},
     "output_type": "execute_result"
    }
   ],
   "source": [
    "renda2011 = dados2011.V4750\n",
    "faixas_renda = range(0,20000, 1000)\n",
    "classe = pd.cut(renda2011, faixas_renda)\n",
    "classe.value_counts()"
   ]
  },
  {
   "cell_type": "code",
   "execution_count": 342,
   "metadata": {
    "collapsed": false
   },
   "outputs": [
    {
     "data": {
      "image/png": "[encoded data removed]",
      "text/plain": [
       "<matplotlib.figure.Figure at 0x26117bb43c8>"
      ]
     },
     "metadata": {},
     "output_type": "display_data"
    }
   ],
   "source": [
    "intervalo_renda = np.arange(0, 20000, 1000)\n",
    "renda2011 = renda2011.fillna(0)\n",
    "histograma3 = renda2011.plot.hist(bins=intervalo_renda, normed=1)"
   ]
  },
  {
   "cell_type": "code",
   "execution_count": 343,
   "metadata": {
    "collapsed": false
   },
   "outputs": [
    {
     "data": {
      "text/plain": [
       "<matplotlib.axes._subplots.AxesSubplot at 0x261392ff828>"
      ]
     },
     "execution_count": 343,
     "metadata": {},
     "output_type": "execute_result"
    },
    {
     "data": {
      "image/png": "[encoded data removed]",
      "text/plain": [
       "<matplotlib.figure.Figure at 0x26134183278>"
      ]
     },
     "metadata": {},
     "output_type": "display_data"
    }
   ],
   "source": [
    "renda2011 = renda2011[(renda2011 <1000000)]\n",
    "renda2011.plot.box()"
   ]
  },
  {
   "cell_type": "code",
   "execution_count": 344,
   "metadata": {
    "collapsed": false
   },
   "outputs": [
    {
     "data": {
      "text/plain": [
       "count    340572.000000\n",
       "mean        742.708396\n",
       "std        1225.777873\n",
       "min           0.000000\n",
       "25%         233.000000\n",
       "50%         447.000000\n",
       "75%         800.000000\n",
       "max      125000.000000\n",
       "Name: V4750, dtype: float64"
      ]
     },
     "execution_count": 344,
     "metadata": {},
     "output_type": "execute_result"
    }
   ],
   "source": [
    "renda2011.describe()"
   ]
  },
  {
   "cell_type": "code",
   "execution_count": 345,
   "metadata": {
    "collapsed": false
   },
   "outputs": [
    {
     "data": {
      "text/plain": [
       "<matplotlib.axes._subplots.AxesSubplot at 0x2609a079668>"
      ]
     },
     "execution_count": 345,
     "metadata": {},
     "output_type": "execute_result"
    },
    {
     "data": {
      "image/png": "[encoded data removed]",
      "text/plain": [
       "<matplotlib.figure.Figure at 0x2609a07c358>"
      ]
     },
     "metadata": {},
     "output_type": "display_data"
    }
   ],
   "source": [
    "dados2011[dados2011.V4750 <82000].boxplot(column= \"V4750\", by=\"V9122\", figsize=(10,10))"
   ]
  },
  {
   "cell_type": "code",
   "execution_count": 346,
   "metadata": {
    "collapsed": false
   },
   "outputs": [],
   "source": [
    "rendaf2011 = dados2011[(dados2011.V9122 == 'Aposentado*') & (renda2011)]\n",
    "#rendaaposentados = dados.V9122[(renda)]\n",
    "rendaaposentados2011 = rendaf2011.V4750"
   ]
  },
  {
   "cell_type": "code",
   "execution_count": 347,
   "metadata": {
    "collapsed": false
   },
   "outputs": [
    {
     "data": {
      "text/plain": [
       "count    32869.000000\n",
       "mean      1136.655329\n",
       "std       1711.003622\n",
       "min         49.000000\n",
       "25%        515.000000\n",
       "50%        640.000000\n",
       "75%       1122.000000\n",
       "max      59100.000000\n",
       "Name: V4750, dtype: float64"
      ]
     },
     "execution_count": 347,
     "metadata": {},
     "output_type": "execute_result"
    }
   ],
   "source": [
    "rendaaposentados2011.describe()"
   ]
  },
  {
   "cell_type": "code",
   "execution_count": null,
   "metadata": {
    "collapsed": true
   },
   "outputs": [],
   "source": []
  }
 ],
 "metadata": {
  "anaconda-cloud": {},
  "kernelspec": {
   "display_name": "Python [Root]",
   "language": "python",
   "name": "Python [Root]"
  },
  "language_info": {
   "codemirror_mode": {
    "name": "ipython",
    "version": 3
   },
   "file_extension": ".py",
   "mimetype": "text/x-python",
   "name": "python",
   "nbconvert_exporter": "python",
   "pygments_lexer": "ipython3",
   "version": "3.5.2"
  }
 },
 "nbformat": 4,
 "nbformat_minor": 0
}

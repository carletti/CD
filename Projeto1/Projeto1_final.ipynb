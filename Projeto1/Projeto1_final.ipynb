{
 "cells": [
  {
   "cell_type": "markdown",
   "metadata": {},
   "source": [
    "***Introdução\n",
    "\n",
    "    Para realizar uma análise da situação dos idosos no Brasil serão considerados dois aspectos:\n",
    "    \n",
    "- Renda e obtenção de auxílios (saúde, alimentação, etc.);\n",
    "- Capacidade de comunicação (sabe ler ou escrever, uso de internet, etc.).\n",
    "\n",
    "    O primeiro irá demonstrar quem possui uma maior necessidade de auxílios devido a não suficiência da renda. Ja o segundo mostra a capacidade de um idoso se informar sobre os resultados do primeiro e realizar uma reclamação/elogio dinte deste."
   ]
  },
  {
   "cell_type": "code",
   "execution_count": null,
   "metadata": {
    "collapsed": true
   },
   "outputs": [],
   "source": [
    "%matplotlib inline\n",
    "import pandas as pd\n",
    "import matplotlib.pyplot as plt\n",
    "import numpy as np\n",
    "import os"
   ]
  },
  {
   "cell_type": "code",
   "execution_count": null,
   "metadata": {
    "collapsed": true
   },
   "outputs": [],
   "source": [
    "print('Diretório:')\n",
    "print(os.getcwd())"
   ]
  },
  {
   "cell_type": "code",
   "execution_count": null,
   "metadata": {
    "collapsed": true
   },
   "outputs": [],
   "source": [
    "estrutura = pd.read_table(\"pes_py.txt\", sep=\";\")"
   ]
  },
  {
   "cell_type": "code",
   "execution_count": null,
   "metadata": {
    "collapsed": true
   },
   "outputs": [],
   "source": [
    "estrutura.head()"
   ]
  },
  {
   "cell_type": "code",
   "execution_count": null,
   "metadata": {
    "collapsed": true
   },
   "outputs": [],
   "source": [
    "dados = pd.read_fwf(\"PES2014.zip\", widths=estrutura.Tamanho, header=None, compression=\"zip\")\n",
    "n = dados.shape[0]"
   ]
  },
  {
   "cell_type": "code",
   "execution_count": null,
   "metadata": {
    "collapsed": true
   },
   "outputs": [],
   "source": [
    "dados.head()"
   ]
  },
  {
   "cell_type": "code",
   "execution_count": null,
   "metadata": {
    "collapsed": true
   },
   "outputs": [],
   "source": [
    "estrutura.columns"
   ]
  },
  {
   "cell_type": "code",
   "execution_count": null,
   "metadata": {
    "collapsed": true
   },
   "outputs": [],
   "source": [
    "dados.columns = estrutura.Coluna"
   ]
  },
  {
   "cell_type": "code",
   "execution_count": null,
   "metadata": {
    "collapsed": true
   },
   "outputs": [],
   "source": [
    "dados.head()"
   ]
  },
  {
   "cell_type": "code",
   "execution_count": null,
   "metadata": {
    "collapsed": true
   },
   "outputs": [],
   "source": [
    "# UF\n",
    "dados.UF = dados.UF.astype('category')\n",
    "dados.UF.cat.categories = ('RO','AC','AM','RR','PA','AP','TO','MA','PI','CE','RN','PB','PE','AL','SE','BA','MG','ES','RJ','SP','PR','SC','RS','MS','MT','GO','DF')\n",
    "\n",
    "# Idade\n",
    "dados.V8005 = dados.V8005.astype('float')\n",
    "idosos = dados[dados.V8005 >= 60]\n",
    "populacao = dados[dados.V8005 < 60]\n",
    "\n",
    "# Auxílio moradia\n",
    "dados.V9043 = dados.V9043.astype('category')\n",
    "\n",
    "# Auxílio alimentação\n",
    "dados.V9044 = dados.V9044.astype('category')\n",
    "\n",
    "# Auxílio transporte\n",
    "dados.V9045 = dados.V9045.astype('category')\n",
    "\n",
    "# Auxílio saúde\n",
    "dados.V9047 = dados.V9047.astype('category')\n",
    "\n",
    "# Renda per-capita\n",
    "dados.V4750 = dados.V4750.astype('float')\n",
    "dados.V4750 = dados[dados.V4750 != 999999999999]\n",
    "\n",
    "# Sabe ler ou escrever\n",
    "dados.V0601 = dados.V0601.astype('category')\n",
    "\n",
    "# Tem celular\n",
    "dados.V06112 = dados.V06112.astype('category')\n",
    "\n",
    "# Acessou a internet nos últimos 12 meses\n",
    "dados.V061111 = dados.V061111.astype('category')\n",
    "\n",
    "#dados.REGIAO = dados.UF\n"
   ]
  },
  {
   "cell_type": "markdown",
   "metadata": {},
   "source": [
    "- Tratamento de dados em relção ao auxílio recebido"
   ]
  },
  {
   "cell_type": "code",
   "execution_count": null,
   "metadata": {
    "collapsed": true
   },
   "outputs": [],
   "source": [
    "# Auxílio moradia\n",
    "print('Idosos que recebem auxílio moradia:')\n",
    "auxiliomoradiaidosos = (dados[(dados.V8005 >= 60)].V9043.value_counts()/n*100).round(decimals=1)\n",
    "print(auxiliomoradiaidosos,'\\n')\n",
    "auxiliomoradiaidosospie = auxiliomoradiaidosos.plot(kind='pie',title='Frequência de idosos que receberam auxílio moradia (%)',autopct='%.1f',figsize=(6, 6))\n",
    "\n",
    "print('População que recebe auxílio moradia')\n",
    "auxiliomoradiapopulacao = (dados[(dados.V8005 < 60)].V9043.value_counts()/n*100).round(decimals=1)\n",
    "print(auxiliomoradiapopulacao,'\\n')\n",
    "auxiliomoradiapopulacaopie = auxiliomoradiapopulacao.plot(kind='pie',title='Frequência da população que recebeu auxílio moradia (%)',autopct='%.1f',figsize=(6, 6))"
   ]
  },
  {
   "cell_type": "markdown",
   "metadata": {},
   "source": [
    "    Visto essa comparação é visivel que,"
   ]
  },
  {
   "cell_type": "code",
   "execution_count": null,
   "metadata": {
    "collapsed": true
   },
   "outputs": [],
   "source": [
    "# Auxílio alimentação\n",
    "print('Idosos que recebem auxílio alimentação:')\n",
    "auxilioalimentacaoidosos = (dados[(dados.V8005 >= 60)].V9044.value_counts()/n*100).round(decimals=1)\n",
    "print(auxilioalimentacaoidosos,'\\n')\n",
    "auxilioalimentacaoidosospie = auxilioalimentacaoidosos.plot(kind='pie',title='Frequência de idosos que receberam auxílio alimentação (%)',autopct='%.1f',figsize=(6, 6))\n",
    "\n",
    "print('População que recebe auxílio alimentação')\n",
    "auxilioalimentacaopopulacao = (dados[(dados.V8005 < 60)].V9044.value_counts()/n*100).round(decimals=1)\n",
    "print(auxilioalimentacaopopulacao,'\\n')\n",
    "auxilioalimentacaopopulacaopie = auxilioalimentacaopopulacao.plot(kind='pie',title='Frequência da população que recebeu auxílio alimentação (%)',autopct='%.1f',figsize=(6, 6))"
   ]
  },
  {
   "cell_type": "markdown",
   "metadata": {},
   "source": [
    "    Ja de acordo com os resultados relevantes ao auxílio alimentação,"
   ]
  },
  {
   "cell_type": "code",
   "execution_count": null,
   "metadata": {
    "collapsed": true
   },
   "outputs": [],
   "source": [
    "# Auxílio transporte\n",
    "print('Idosos que recebem auxílio transporte:')\n",
    "auxiliotransporteidosos = (dados[(dados.V8005 >= 60)].V9045.value_counts()/n*100).round(decimals=1)\n",
    "print(auxiliotransporteidosos,'\\n')\n",
    "auxiliotransporteidosospie = auxiliotransporteidosos.plot(kind='pie',title='Frequência de idosos que receberam auxílio transporte (%)',autopct='%.1f',figsize=(6, 6))\n",
    "\n",
    "print('População que recebe auxílio transporte')\n",
    "auxiliotransportepopulacao = (dados[(dados.V8005 < 60)].V9045.value_counts()/n*100).round(decimals=1)\n",
    "print(auxiliotransportepopulacao,'\\n')\n",
    "auxiliotransportepopulacaopie = auxiliotransportepopulacao.plot(kind='pie',title='Frequência da população que recebeu auxílio transporte (%)',autopct='%.1f',figsize=(6, 6))"
   ]
  },
  {
   "cell_type": "markdown",
   "metadata": {},
   "source": [
    "    A variável auxílio transporte revela que,"
   ]
  },
  {
   "cell_type": "code",
   "execution_count": null,
   "metadata": {
    "collapsed": true
   },
   "outputs": [],
   "source": [
    "# Auxílio saúde\n",
    "print('Idosos que recebem auxílio saúde:')\n",
    "auxiliosaudeidosos = (dados[(dados.V8005 >= 60)].V9047.value_counts()/n*100).round(decimals=1)\n",
    "printauxiliosaudeidosos,'\\n')\n",
    "auxiliosaudeidosospie = auxiliosaudeidosos.plot(kind='pie',title='Frequência de idosos que receberam auxílio saúde (%)',autopct='%.1f',figsize=(6, 6))\n",
    "\n",
    "print('População que recebe auxílio saúde')\n",
    "auxiliosaudepopulacao = (dados[(dados.V8005 < 60)].V9047.value_counts()/n*100).round(decimals=1)\n",
    "print(auxiliosaudepopulacao,'\\n')\n",
    "auxiliosaudepopulacaopie = auxiliosaudepopulacao.plot(kind='pie',title='Frequência da população que recebeu auxílio saúde (%)',autopct='%.1f',figsize=(6, 6))"
   ]
  },
  {
   "cell_type": "markdown",
   "metadata": {},
   "source": [
    "    Por fim, a variável auxílio saúde"
   ]
  },
  {
   "cell_type": "code",
   "execution_count": null,
   "metadata": {
    "collapsed": true
   },
   "outputs": [],
   "source": [
    "dados.boxplot(column= dados[(dados.V8005 >= 60)].V9044, by=\"UF\", figsize=(10, 10))"
   ]
  },
  {
   "cell_type": "code",
   "execution_count": null,
   "metadata": {
    "collapsed": true
   },
   "outputs": [],
   "source": []
  },
  {
   "cell_type": "code",
   "execution_count": null,
   "metadata": {
    "collapsed": true
   },
   "outputs": [],
   "source": [
    "# Saber ler e escrever\n",
    "print(\"Porcentagem de idosos que sabem ler em escrever\")\n",
    "lerescreveridosos = (dados[(dados.V8005 >= 60)].V0601.value_counts()/n*100).round(decimals=1)\n",
    "print(lerescreveridosos,'\\n')\n",
    "lerescreveridososbarr = lerescreveridosos.plot(kind='bar',title='Frequência de idosos que sabem ler e escrver (%)',figsize=(6, 6),color=('b','g'))\n",
    "\n",
    "print(\"Porcentagem da população que sabe ler e escrever\")\n",
    "lerescreverpopulacao = (dados[(dados.V8005 < 60)].V0601.value_counts()/n*100).round(decimals=1)\n",
    "print(lerescreverpopulacao,'\\n')\n",
    "lerescreverpopulacaobarr = lerescreverpopulacao.plot(kind='bar',title='Frequência da população que sabe ler e escrver (%)',figsize=(6, 6),color=('b','g'))\n"
   ]
  },
  {
   "cell_type": "markdown",
   "metadata": {},
   "source": [
    "    A variável acima mostra que "
   ]
  },
  {
   "cell_type": "code",
   "execution_count": null,
   "metadata": {
    "collapsed": true
   },
   "outputs": [],
   "source": [
    "# Possuir ou não celular\n",
    "print(\"Porcentagem de idosos que possuem ou não celular\")\n",
    "celularidosos = (dados[(dados.V8005 >= 60)].V060112.value_counts()/n*100).round(decimals=1)\n",
    "print(celularidosos,'\\n')\n",
    "celularidososbarr = celularidosos.plot(kind='bar',title='Frequência de idosos que possuem ou não celular (%)',figsize=(6, 6),color=('b','g'))\n",
    "\n",
    "print(\"Porcentagem da população que possui ou não celular\")\n",
    "celularpopulacao = (dados[(dados.V8005 < 60)].V060112.value_counts()/n*100).round(decimals=1)\n",
    "print(celularpopulacao,'\\n')\n",
    "celularpopulacaobarr = celularpopulacao.plot(kind='bar',title='Frequência da população que possui ou não celular (%)',figsize=(6, 6),color=('b','g'))\n"
   ]
  },
  {
   "cell_type": "markdown",
   "metadata": {},
   "source": [
    "    Essa variável, que segue o mesmo cerne da comunicação, mostra que "
   ]
  },
  {
   "cell_type": "code",
   "execution_count": null,
   "metadata": {
    "collapsed": true
   },
   "outputs": [],
   "source": [
    "# Acessou a internet no último ano\n",
    "print(\"Porcentagem de idosos que acessou a internet no último ano\")\n",
    "internetidosos = (dados[(dados.V8005 >= 60)].V0601111.value_counts()/n*100).round(decimals=1)\n",
    "print(internetidosos,'\\n')\n",
    "internetidososbarr = internetidosos.plot(kind='bar',title='Frequência de idosos que acessaram a internet no último ano (%)',figsize=(6, 6),color=('b','g'))\n",
    "\n",
    "print(\"Porcentagem da população que acessou a internet no último ano\")\n",
    "internetpopulacao = (dados[(dados.V8005 < 60)].V0601111.value_counts()/n*100).round(decimals=1)\n",
    "print(internetpopulacao,'\\n')\n",
    "internetpopulacaobarr = internetpopulacao.plot(kind='bar',title='Frequência da população que acessou a internet no último ano (%)',figsize=(6, 6),color=('b','g'))\n"
   ]
  },
  {
   "cell_type": "markdown",
   "metadata": {},
   "source": [
    "    Co-relacionado a variável anterior, esta demonstra que"
   ]
  },
  {
   "cell_type": "code",
   "execution_count": null,
   "metadata": {
    "collapsed": true
   },
   "outputs": [],
   "source": []
  },
  {
   "cell_type": "code",
   "execution_count": null,
   "metadata": {
    "collapsed": true
   },
   "outputs": [],
   "source": []
  },
  {
   "cell_type": "code",
   "execution_count": null,
   "metadata": {
    "collapsed": true
   },
   "outputs": [],
   "source": []
  },
  {
   "cell_type": "code",
   "execution_count": null,
   "metadata": {
    "collapsed": true
   },
   "outputs": [],
   "source": []
  },
  {
   "cell_type": "code",
   "execution_count": null,
   "metadata": {
    "collapsed": true
   },
   "outputs": [],
   "source": []
  },
  {
   "cell_type": "code",
   "execution_count": null,
   "metadata": {
    "collapsed": true
   },
   "outputs": [],
   "source": []
  },
  {
   "cell_type": "code",
   "execution_count": null,
   "metadata": {
    "collapsed": true
   },
   "outputs": [],
   "source": []
  },
  {
   "cell_type": "code",
   "execution_count": null,
   "metadata": {
    "collapsed": true
   },
   "outputs": [],
   "source": []
  },
  {
   "cell_type": "code",
   "execution_count": null,
   "metadata": {
    "collapsed": true
   },
   "outputs": [],
   "source": []
  }
 ],
 "metadata": {
  "anaconda-cloud": {},
  "kernelspec": {
   "display_name": "Python [Root]",
   "language": "python",
   "name": "Python [Root]"
  },
  "language_info": {
   "codemirror_mode": {
    "name": "ipython",
    "version": 3
   },
   "file_extension": ".py",
   "mimetype": "text/x-python",
   "name": "python",
   "nbconvert_exporter": "python",
   "pygments_lexer": "ipython3",
   "version": "3.5.2"
  }
 },
 "nbformat": 4,
 "nbformat_minor": 0
}
